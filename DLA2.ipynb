{
  "nbformat": 4,
  "nbformat_minor": 0,
  "metadata": {
    "colab": {
      "name": "DLA2.ipynb",
      "provenance": [],
      "collapsed_sections": [],
      "toc_visible": true
    },
    "kernelspec": {
      "name": "python3",
      "display_name": "Python 3"
    },
    "accelerator": "GPU",
    "widgets": {
      "application/vnd.jupyter.widget-state+json": {
        "f56f0e6745b44eedbddf5a310b407b94": {
          "model_module": "@jupyter-widgets/controls",
          "model_name": "HBoxModel",
          "state": {
            "_view_name": "HBoxView",
            "_dom_classes": [],
            "_model_name": "HBoxModel",
            "_view_module": "@jupyter-widgets/controls",
            "_model_module_version": "1.5.0",
            "_view_count": null,
            "_view_module_version": "1.5.0",
            "box_style": "",
            "layout": "IPY_MODEL_771d74a2129c45d1a5cd72264fb88a83",
            "_model_module": "@jupyter-widgets/controls",
            "children": [
              "IPY_MODEL_5be81e8e3c03430eadb353b17df684b8",
              "IPY_MODEL_edef99798f43466eba67ba7e8210af5c"
            ]
          }
        },
        "771d74a2129c45d1a5cd72264fb88a83": {
          "model_module": "@jupyter-widgets/base",
          "model_name": "LayoutModel",
          "state": {
            "_view_name": "LayoutView",
            "grid_template_rows": null,
            "right": null,
            "justify_content": null,
            "_view_module": "@jupyter-widgets/base",
            "overflow": null,
            "_model_module_version": "1.2.0",
            "_view_count": null,
            "flex_flow": null,
            "width": null,
            "min_width": null,
            "border": null,
            "align_items": null,
            "bottom": null,
            "_model_module": "@jupyter-widgets/base",
            "top": null,
            "grid_column": null,
            "overflow_y": null,
            "overflow_x": null,
            "grid_auto_flow": null,
            "grid_area": null,
            "grid_template_columns": null,
            "flex": null,
            "_model_name": "LayoutModel",
            "justify_items": null,
            "grid_row": null,
            "max_height": null,
            "align_content": null,
            "visibility": null,
            "align_self": null,
            "height": null,
            "min_height": null,
            "padding": null,
            "grid_auto_rows": null,
            "grid_gap": null,
            "max_width": null,
            "order": null,
            "_view_module_version": "1.2.0",
            "grid_template_areas": null,
            "object_position": null,
            "object_fit": null,
            "grid_auto_columns": null,
            "margin": null,
            "display": null,
            "left": null
          }
        },
        "5be81e8e3c03430eadb353b17df684b8": {
          "model_module": "@jupyter-widgets/controls",
          "model_name": "FloatProgressModel",
          "state": {
            "_view_name": "ProgressView",
            "style": "IPY_MODEL_fe19ce38590f4ca9ae9327a16abde2d3",
            "_dom_classes": [],
            "description": "100%",
            "_model_name": "FloatProgressModel",
            "bar_style": "success",
            "max": 244418560,
            "_view_module": "@jupyter-widgets/controls",
            "_model_module_version": "1.5.0",
            "value": 244418560,
            "_view_count": null,
            "_view_module_version": "1.5.0",
            "orientation": "horizontal",
            "min": 0,
            "description_tooltip": null,
            "_model_module": "@jupyter-widgets/controls",
            "layout": "IPY_MODEL_298c69ff6afb4e34a1a508ed3318c0ba"
          }
        },
        "edef99798f43466eba67ba7e8210af5c": {
          "model_module": "@jupyter-widgets/controls",
          "model_name": "HTMLModel",
          "state": {
            "_view_name": "HTMLView",
            "style": "IPY_MODEL_96a1542472c145a5812ff20547f984a8",
            "_dom_classes": [],
            "description": "",
            "_model_name": "HTMLModel",
            "placeholder": "​",
            "_view_module": "@jupyter-widgets/controls",
            "_model_module_version": "1.5.0",
            "value": " 233M/233M [00:37&lt;00:00, 6.50MB/s]",
            "_view_count": null,
            "_view_module_version": "1.5.0",
            "description_tooltip": null,
            "_model_module": "@jupyter-widgets/controls",
            "layout": "IPY_MODEL_1e1eeabd74b6488eab20bd353bfd99dc"
          }
        },
        "fe19ce38590f4ca9ae9327a16abde2d3": {
          "model_module": "@jupyter-widgets/controls",
          "model_name": "ProgressStyleModel",
          "state": {
            "_view_name": "StyleView",
            "_model_name": "ProgressStyleModel",
            "description_width": "initial",
            "_view_module": "@jupyter-widgets/base",
            "_model_module_version": "1.5.0",
            "_view_count": null,
            "_view_module_version": "1.2.0",
            "bar_color": null,
            "_model_module": "@jupyter-widgets/controls"
          }
        },
        "298c69ff6afb4e34a1a508ed3318c0ba": {
          "model_module": "@jupyter-widgets/base",
          "model_name": "LayoutModel",
          "state": {
            "_view_name": "LayoutView",
            "grid_template_rows": null,
            "right": null,
            "justify_content": null,
            "_view_module": "@jupyter-widgets/base",
            "overflow": null,
            "_model_module_version": "1.2.0",
            "_view_count": null,
            "flex_flow": null,
            "width": null,
            "min_width": null,
            "border": null,
            "align_items": null,
            "bottom": null,
            "_model_module": "@jupyter-widgets/base",
            "top": null,
            "grid_column": null,
            "overflow_y": null,
            "overflow_x": null,
            "grid_auto_flow": null,
            "grid_area": null,
            "grid_template_columns": null,
            "flex": null,
            "_model_name": "LayoutModel",
            "justify_items": null,
            "grid_row": null,
            "max_height": null,
            "align_content": null,
            "visibility": null,
            "align_self": null,
            "height": null,
            "min_height": null,
            "padding": null,
            "grid_auto_rows": null,
            "grid_gap": null,
            "max_width": null,
            "order": null,
            "_view_module_version": "1.2.0",
            "grid_template_areas": null,
            "object_position": null,
            "object_fit": null,
            "grid_auto_columns": null,
            "margin": null,
            "display": null,
            "left": null
          }
        },
        "96a1542472c145a5812ff20547f984a8": {
          "model_module": "@jupyter-widgets/controls",
          "model_name": "DescriptionStyleModel",
          "state": {
            "_view_name": "StyleView",
            "_model_name": "DescriptionStyleModel",
            "description_width": "",
            "_view_module": "@jupyter-widgets/base",
            "_model_module_version": "1.5.0",
            "_view_count": null,
            "_view_module_version": "1.2.0",
            "_model_module": "@jupyter-widgets/controls"
          }
        },
        "1e1eeabd74b6488eab20bd353bfd99dc": {
          "model_module": "@jupyter-widgets/base",
          "model_name": "LayoutModel",
          "state": {
            "_view_name": "LayoutView",
            "grid_template_rows": null,
            "right": null,
            "justify_content": null,
            "_view_module": "@jupyter-widgets/base",
            "overflow": null,
            "_model_module_version": "1.2.0",
            "_view_count": null,
            "flex_flow": null,
            "width": null,
            "min_width": null,
            "border": null,
            "align_items": null,
            "bottom": null,
            "_model_module": "@jupyter-widgets/base",
            "top": null,
            "grid_column": null,
            "overflow_y": null,
            "overflow_x": null,
            "grid_auto_flow": null,
            "grid_area": null,
            "grid_template_columns": null,
            "flex": null,
            "_model_name": "LayoutModel",
            "justify_items": null,
            "grid_row": null,
            "max_height": null,
            "align_content": null,
            "visibility": null,
            "align_self": null,
            "height": null,
            "min_height": null,
            "padding": null,
            "grid_auto_rows": null,
            "grid_gap": null,
            "max_width": null,
            "order": null,
            "_view_module_version": "1.2.0",
            "grid_template_areas": null,
            "object_position": null,
            "object_fit": null,
            "grid_auto_columns": null,
            "margin": null,
            "display": null,
            "left": null
          }
        },
        "dc5613447be04eb0847225167ff07e02": {
          "model_module": "@jupyter-widgets/controls",
          "model_name": "HBoxModel",
          "state": {
            "_view_name": "HBoxView",
            "_dom_classes": [],
            "_model_name": "HBoxModel",
            "_view_module": "@jupyter-widgets/controls",
            "_model_module_version": "1.5.0",
            "_view_count": null,
            "_view_module_version": "1.5.0",
            "box_style": "",
            "layout": "IPY_MODEL_368c771f60904e85bc89723400d7a742",
            "_model_module": "@jupyter-widgets/controls",
            "children": [
              "IPY_MODEL_b5e1d0ca98534711bf125ba6a07752ab",
              "IPY_MODEL_4900de1a406d472ca193a7b3a175a724"
            ]
          }
        },
        "368c771f60904e85bc89723400d7a742": {
          "model_module": "@jupyter-widgets/base",
          "model_name": "LayoutModel",
          "state": {
            "_view_name": "LayoutView",
            "grid_template_rows": null,
            "right": null,
            "justify_content": null,
            "_view_module": "@jupyter-widgets/base",
            "overflow": null,
            "_model_module_version": "1.2.0",
            "_view_count": null,
            "flex_flow": null,
            "width": null,
            "min_width": null,
            "border": null,
            "align_items": null,
            "bottom": null,
            "_model_module": "@jupyter-widgets/base",
            "top": null,
            "grid_column": null,
            "overflow_y": null,
            "overflow_x": null,
            "grid_auto_flow": null,
            "grid_area": null,
            "grid_template_columns": null,
            "flex": null,
            "_model_name": "LayoutModel",
            "justify_items": null,
            "grid_row": null,
            "max_height": null,
            "align_content": null,
            "visibility": null,
            "align_self": null,
            "height": null,
            "min_height": null,
            "padding": null,
            "grid_auto_rows": null,
            "grid_gap": null,
            "max_width": null,
            "order": null,
            "_view_module_version": "1.2.0",
            "grid_template_areas": null,
            "object_position": null,
            "object_fit": null,
            "grid_auto_columns": null,
            "margin": null,
            "display": null,
            "left": null
          }
        },
        "b5e1d0ca98534711bf125ba6a07752ab": {
          "model_module": "@jupyter-widgets/controls",
          "model_name": "FloatProgressModel",
          "state": {
            "_view_name": "ProgressView",
            "style": "IPY_MODEL_18c352059f174d6ca7aaf073b1b90764",
            "_dom_classes": [],
            "description": "100%",
            "_model_name": "FloatProgressModel",
            "bar_style": "success",
            "max": 574769405,
            "_view_module": "@jupyter-widgets/controls",
            "_model_module_version": "1.5.0",
            "value": 574769405,
            "_view_count": null,
            "_view_module_version": "1.5.0",
            "orientation": "horizontal",
            "min": 0,
            "description_tooltip": null,
            "_model_module": "@jupyter-widgets/controls",
            "layout": "IPY_MODEL_839c6d63271a4115bc6dcebb12be5cc1"
          }
        },
        "4900de1a406d472ca193a7b3a175a724": {
          "model_module": "@jupyter-widgets/controls",
          "model_name": "HTMLModel",
          "state": {
            "_view_name": "HTMLView",
            "style": "IPY_MODEL_925dbc1bf31f4bd79b62d8797e260a79",
            "_dom_classes": [],
            "description": "",
            "_model_name": "HTMLModel",
            "placeholder": "​",
            "_view_module": "@jupyter-widgets/controls",
            "_model_module_version": "1.5.0",
            "value": " 548M/548M [00:49&lt;00:00, 11.6MB/s]",
            "_view_count": null,
            "_view_module_version": "1.5.0",
            "description_tooltip": null,
            "_model_module": "@jupyter-widgets/controls",
            "layout": "IPY_MODEL_60da6a4b485c455cb8c5b3d3da2ed47d"
          }
        },
        "18c352059f174d6ca7aaf073b1b90764": {
          "model_module": "@jupyter-widgets/controls",
          "model_name": "ProgressStyleModel",
          "state": {
            "_view_name": "StyleView",
            "_model_name": "ProgressStyleModel",
            "description_width": "initial",
            "_view_module": "@jupyter-widgets/base",
            "_model_module_version": "1.5.0",
            "_view_count": null,
            "_view_module_version": "1.2.0",
            "bar_color": null,
            "_model_module": "@jupyter-widgets/controls"
          }
        },
        "839c6d63271a4115bc6dcebb12be5cc1": {
          "model_module": "@jupyter-widgets/base",
          "model_name": "LayoutModel",
          "state": {
            "_view_name": "LayoutView",
            "grid_template_rows": null,
            "right": null,
            "justify_content": null,
            "_view_module": "@jupyter-widgets/base",
            "overflow": null,
            "_model_module_version": "1.2.0",
            "_view_count": null,
            "flex_flow": null,
            "width": null,
            "min_width": null,
            "border": null,
            "align_items": null,
            "bottom": null,
            "_model_module": "@jupyter-widgets/base",
            "top": null,
            "grid_column": null,
            "overflow_y": null,
            "overflow_x": null,
            "grid_auto_flow": null,
            "grid_area": null,
            "grid_template_columns": null,
            "flex": null,
            "_model_name": "LayoutModel",
            "justify_items": null,
            "grid_row": null,
            "max_height": null,
            "align_content": null,
            "visibility": null,
            "align_self": null,
            "height": null,
            "min_height": null,
            "padding": null,
            "grid_auto_rows": null,
            "grid_gap": null,
            "max_width": null,
            "order": null,
            "_view_module_version": "1.2.0",
            "grid_template_areas": null,
            "object_position": null,
            "object_fit": null,
            "grid_auto_columns": null,
            "margin": null,
            "display": null,
            "left": null
          }
        },
        "925dbc1bf31f4bd79b62d8797e260a79": {
          "model_module": "@jupyter-widgets/controls",
          "model_name": "DescriptionStyleModel",
          "state": {
            "_view_name": "StyleView",
            "_model_name": "DescriptionStyleModel",
            "description_width": "",
            "_view_module": "@jupyter-widgets/base",
            "_model_module_version": "1.5.0",
            "_view_count": null,
            "_view_module_version": "1.2.0",
            "_model_module": "@jupyter-widgets/controls"
          }
        },
        "60da6a4b485c455cb8c5b3d3da2ed47d": {
          "model_module": "@jupyter-widgets/base",
          "model_name": "LayoutModel",
          "state": {
            "_view_name": "LayoutView",
            "grid_template_rows": null,
            "right": null,
            "justify_content": null,
            "_view_module": "@jupyter-widgets/base",
            "overflow": null,
            "_model_module_version": "1.2.0",
            "_view_count": null,
            "flex_flow": null,
            "width": null,
            "min_width": null,
            "border": null,
            "align_items": null,
            "bottom": null,
            "_model_module": "@jupyter-widgets/base",
            "top": null,
            "grid_column": null,
            "overflow_y": null,
            "overflow_x": null,
            "grid_auto_flow": null,
            "grid_area": null,
            "grid_template_columns": null,
            "flex": null,
            "_model_name": "LayoutModel",
            "justify_items": null,
            "grid_row": null,
            "max_height": null,
            "align_content": null,
            "visibility": null,
            "align_self": null,
            "height": null,
            "min_height": null,
            "padding": null,
            "grid_auto_rows": null,
            "grid_gap": null,
            "max_width": null,
            "order": null,
            "_view_module_version": "1.2.0",
            "grid_template_areas": null,
            "object_position": null,
            "object_fit": null,
            "grid_auto_columns": null,
            "margin": null,
            "display": null,
            "left": null
          }
        }
      }
    }
  },
  "cells": [
    {
      "cell_type": "markdown",
      "metadata": {
        "id": "MmHf7YO3RcqS",
        "colab_type": "text"
      },
      "source": [
        "## Load data from google drive(Must run)"
      ]
    },
    {
      "cell_type": "code",
      "metadata": {
        "id": "zevpmzXQo4ug",
        "colab_type": "code",
        "colab": {}
      },
      "source": [
        "import os\n",
        "import torch\n",
        "from torch import nn\n",
        "from torchvision import datasets\n",
        "from torchvision import transforms\n",
        "from torchvision.models.utils import load_state_dict_from_url\n",
        "import torch.nn.functional as F\n",
        "from matplotlib import pyplot as plt\n",
        "from torch.optim import lr_scheduler\n",
        "from torchvision import models"
      ],
      "execution_count": null,
      "outputs": []
    },
    {
      "cell_type": "code",
      "metadata": {
        "id": "Hi-tCnmHqmey",
        "colab_type": "code",
        "colab": {
          "base_uri": "https://localhost:8080/",
          "height": 34
        },
        "outputId": "eb793bce-2bf2-49a1-e328-5a7828ce3184"
      },
      "source": [
        "use_cuda = True if torch.cuda.is_available() else False\n",
        "device = torch.device(\"cuda\" if torch.cuda.is_available() else \"cpu\")\n",
        "print('We are using GPU.' if use_cuda else 'We are using CPU.')"
      ],
      "execution_count": null,
      "outputs": [
        {
          "output_type": "stream",
          "text": [
            "We are using GPU.\n"
          ],
          "name": "stdout"
        }
      ]
    },
    {
      "cell_type": "code",
      "metadata": {
        "id": "HT_pIacGI8rD",
        "colab_type": "code",
        "colab": {}
      },
      "source": [
        "# your must replace it with your drive dictionary for train.csv and tets.csv\n",
        "Path='/content/drive/My Drive/DL/Assignment_2/'\n",
        "\n",
        "#you must replace it with your dirve dictionary for all images\n",
        "root='/content/drive/My Drive/DL/Assignment_2/data/'"
      ],
      "execution_count": null,
      "outputs": []
    },
    {
      "cell_type": "markdown",
      "metadata": {
        "id": "ymM3mEDQRfl6",
        "colab_type": "text"
      },
      "source": [
        "### Transfer label into binary array"
      ]
    },
    {
      "cell_type": "code",
      "metadata": {
        "id": "NIxL44BiAAoJ",
        "colab_type": "code",
        "colab": {}
      },
      "source": [
        "import pandas as pd\n",
        "import numpy as np\n",
        "labels=pd.read_csv(Path+\"train.csv\")\n",
        "labels_test=pd.read_csv(Path+\"test.csv\")"
      ],
      "execution_count": null,
      "outputs": []
    },
    {
      "cell_type": "code",
      "metadata": {
        "id": "CvrILasqGKFY",
        "colab_type": "code",
        "colab": {}
      },
      "source": [
        "# transfer label [3,8,13]  to multi-onehot [0., 0., 1., 0., 0., 0., 0., 1., 0., 0., 0., 0., 1., 0., 0., 0., 0.,0., 0.]\n",
        "def labelToneHot(item):\n",
        "    label=list(map(int,item.split()))\n",
        "    temp=np.zeros(20)\n",
        "    temp[label]=1\n",
        "    return temp[1:]\n",
        "Target=[]\n",
        "for item in labels['Labels']:\n",
        "    Target.append(labelToneHot(item))\n",
        "# list to np.array\n",
        "Target_=np.array(Target)"
      ],
      "execution_count": null,
      "outputs": []
    },
    {
      "cell_type": "markdown",
      "metadata": {
        "id": "pUFGzjnkEpkX",
        "colab_type": "text"
      },
      "source": [
        "# CNN part"
      ]
    },
    {
      "cell_type": "markdown",
      "metadata": {
        "id": "-4_XDMabRkgU",
        "colab_type": "text"
      },
      "source": [
        "## Creat dataloader for CNN(Must run)\n"
      ]
    },
    {
      "cell_type": "code",
      "metadata": {
        "id": "jmzjbZ2VSLlD",
        "colab_type": "code",
        "colab": {}
      },
      "source": [
        "from torch.utils.data import Dataset, DataLoader\n",
        "from skimage import io\n",
        "from PIL import Image\n",
        "# define a dataset to combine image with label (one by one)\n",
        "class CustomerDataset(Dataset):\n",
        "    def __init__(self, Target, ImageID,root_dir, transform=None):\n",
        "        self.landmarks_frame = Target\n",
        "        self.root_dir = root_dir\n",
        "        self.transform = transform\n",
        "        self.imageId=ImageID\n",
        "    def __len__(self):\n",
        "        lenght=40000\n",
        "        return len(self.landmarks_frame)\n",
        "    def __getitem__(self, idx):\n",
        "        if torch.is_tensor(idx):\n",
        "            idx = idx.tolist()\n",
        "        img_name = os.path.join(self.root_dir,\n",
        "                                self.imageId.iloc[idx])\n",
        "        image = Image.open(img_name)\n",
        "        landmarks = self.landmarks_frame[idx, :]\n",
        "        if self.transform:\n",
        "            image = self.transform(image)\n",
        "        return [image,landmarks]\n",
        "\n",
        "#define a dataset for test ( image with empty label.)\n",
        "class TestDataset(Dataset):\n",
        "    def __init__(self,root_dir, transform=None):\n",
        "        self.root_dir = root_dir\n",
        "        self.transform = transform\n",
        "    def __len__(self):\n",
        "        lenght=40000\n",
        "        return lenght\n",
        "    def __getitem__(self, idx):\n",
        "        if torch.is_tensor(idx):\n",
        "            idx = idx.tolist()\n",
        "        img_name = os.path.join(self.root_dir,\n",
        "                                str(idx)+'.jpg')\n",
        "        image = Image.open(img_name)\n",
        "       # image=torch.from_numpy(image).long()\n",
        "        landmarks = np.zeros(19)\n",
        "        if self.transform:\n",
        "            image = self.transform(image)\n",
        "        return [image,landmarks]"
      ],
      "execution_count": null,
      "outputs": []
    },
    {
      "cell_type": "code",
      "metadata": {
        "id": "PUctehL8S1V-",
        "colab_type": "code",
        "colab": {}
      },
      "source": [
        "\n",
        "\n",
        "# create dataset for tairn and test using transform method to normalization the iamge data\n",
        "trans=transforms.Compose([\n",
        "                            # transforms.RandomResizedCrop(224),\n",
        "                            transforms.Resize((224,224)),\n",
        "                            # transforms.RandomResizedCrop(224),\n",
        "                            transforms.RandomHorizontalFlip(),\n",
        "                            transforms.ToTensor(),\n",
        "                          \n",
        "                            transforms.Normalize(mean=[0.485, 0.456, 0.406],\n",
        "                                                    std=[0.229, 0.224, 0.225])\n",
        "                            ])\n",
        "CustomerDataset=CustomerDataset(Target=Target_,ImageID=labels['ImageID'],root_dir=root,transform=trans)\n",
        "TestDataset=TestDataset(root_dir=root,transform=trans)"
      ],
      "execution_count": null,
      "outputs": []
    },
    {
      "cell_type": "code",
      "metadata": {
        "id": "UN8E-vo9R7v3",
        "colab_type": "code",
        "colab": {
          "base_uri": "https://localhost:8080/",
          "height": 34
        },
        "outputId": "c15f8a07-c1e4-47d1-99e5-705d44927239"
      },
      "source": [
        "# create dataloaders\n",
        "kwargs = {'num_workers': 8, 'pin_memory': True} if use_cuda else {}\n",
        "kwargs['batch_size'] = 16  # Batch size used during training.\n",
        "part=1\n",
        "trainRange = list(range(0,29000//part))\n",
        "validateRange = list(range(29000//part,30000//part))\n",
        "testRange=list(range(30000,40000))\n",
        "trainDataSet = torch.utils.data.Subset(CustomerDataset, trainRange)\n",
        "validateDataSet = torch.utils.data.Subset(CustomerDataset, validateRange)\n",
        "testDatsSet= torch.utils.data.Subset(TestDataset, testRange)\n",
        "\n",
        "train_loader = torch.utils.data.DataLoader(trainDataSet,shuffle=True, **kwargs)\n",
        "test_loader = torch.utils.data.DataLoader(validateDataSet,shuffle=False, **kwargs)\n",
        "Realtest_loader=torch.utils.data.DataLoader(testDatsSet,shuffle=False,batch_size=20,num_workers=6)\n",
        "print('Dataloaders initialized.')"
      ],
      "execution_count": null,
      "outputs": [
        {
          "output_type": "stream",
          "text": [
            "Dataloaders initialized.\n"
          ],
          "name": "stdout"
        }
      ]
    },
    {
      "cell_type": "code",
      "metadata": {
        "id": "ZrwUW8Ndqmry",
        "colab_type": "code",
        "colab": {
          "base_uri": "https://localhost:8080/",
          "height": 371
        },
        "outputId": "10e44b4b-0a41-48f2-d221-06a15813e871"
      },
      "source": [
        "print('{} examples in the training set.'.format(len(train_loader) * 16))\n",
        "print('{} examples in the testing set.'.format(len(test_loader) * 16))\n",
        "\n",
        "b_imgs,b_labels= next(iter(train_loader))\n",
        "\n",
        "print('A batch of imgs shape:', b_imgs.size())\n",
        "print('A batch of labels shape:', b_labels.size())\n",
        "\n",
        "plt.imshow(b_imgs[0].transpose(0, 1).transpose(1, 2))\n",
        "            # * torch.tensor([0.229, 0.224, 0.225])\n",
        "            # + torch.tensor([0.485, 0.456, 0.406]))"
      ],
      "execution_count": null,
      "outputs": [
        {
          "output_type": "stream",
          "text": [
            "29008 examples in the training set.\n",
            "1008 examples in the testing set.\n"
          ],
          "name": "stdout"
        },
        {
          "output_type": "stream",
          "text": [
            "Clipping input data to the valid range for imshow with RGB data ([0..1] for floats or [0..255] for integers).\n"
          ],
          "name": "stderr"
        },
        {
          "output_type": "stream",
          "text": [
            "A batch of imgs shape: torch.Size([16, 3, 224, 224])\n",
            "A batch of labels shape: torch.Size([16, 19])\n"
          ],
          "name": "stdout"
        },
        {
          "output_type": "execute_result",
          "data": {
            "text/plain": [
              "<matplotlib.image.AxesImage at 0x7f1611231f60>"
            ]
          },
          "metadata": {
            "tags": []
          },
          "execution_count": 10
        },
        {
          "output_type": "display_data",
          "data": {
            "image/png": "[encoded data removed]",
            "text/plain": [
              "<Figure size 432x288 with 1 Axes>"
            ]
          },
          "metadata": {
            "tags": [],
            "needs_background": "light"
          }
        }
      ]
    },
    {
      "cell_type": "markdown",
      "metadata": {
        "id": "FegPWLG6G7KB",
        "colab_type": "text"
      },
      "source": [
        "## Common function (Must run)"
      ]
    },
    {
      "cell_type": "code",
      "metadata": {
        "id": "0gTmrNJygaLT",
        "colab_type": "code",
        "colab": {}
      },
      "source": [
        "#calculate the accuracy and recall\n",
        "def calculate_acuracy_mode_one(model_pred, labels):\n",
        "    accuracy_th = 0.5\n",
        "    pred_result = model_pred > accuracy_th\n",
        "    pred_result = pred_result.float()\n",
        "    pred_one_num = torch.sum(pred_result)\n",
        "    if pred_one_num == 0:\n",
        "        return 0, 0\n",
        "    target_one_num = torch.sum(labels)\n",
        "    true_predict_num = torch.sum(pred_result * labels)\n",
        "    precision = true_predict_num / pred_one_num\n",
        "    recall = true_predict_num / target_one_num\n",
        "    return precision.item(), recall.item()"
      ],
      "execution_count": null,
      "outputs": []
    },
    {
      "cell_type": "code",
      "metadata": {
        "id": "u-FQZ9t6-nBc",
        "colab_type": "code",
        "colab": {}
      },
      "source": [
        "# def a evaluation for validation phase\n",
        "def evaluation(model): \n",
        "        if torch.cuda.is_available():\n",
        "            model = model.to('cuda')\n",
        "            print('using GPU')\n",
        "        else:\n",
        "            print('using CPU')\n",
        "        ## set model to evaluation mode\n",
        "        model.eval()\n",
        "        ## evaluation\n",
        "        ep_loss = 0.0\n",
        "        ep_acc = 0.0\n",
        "        ep_recall=0.0\n",
        "        criterion=nn.BCEWithLogitsLoss()\n",
        "        with torch.no_grad():\n",
        "            for step,(x,y) in enumerate(test_loader):\n",
        "                x=x.float()\n",
        "                y=y.float()\n",
        "                if torch.cuda.is_available():\n",
        "                    x = x.to('cuda')\n",
        "                    y = y.to('cuda')\n",
        "                # calculate output\n",
        "                p = model(x)\n",
        "                # calculate metrics\n",
        "                loss = criterion(p, y)\n",
        "\n",
        "                pred = F.sigmoid(p)\n",
        "                target = (y)\n",
        "                acc,recall= calculate_acuracy_mode_one(pred,target)\n",
        "                # acc = accuracy(p, y)\n",
        "                ep_loss += loss\n",
        "                ep_acc += acc\n",
        "                ep_recall +=recall\n",
        "                if step % 5 == 0:\n",
        "                    print('\\rtest step: %d loss: %.2f acc: %.4f recall: %.4f F1: %.4f' \n",
        "                            % (step, ep_loss/(step+1), ep_acc/(step+1),ep_recall/(step+1),\n",
        "                               2*ep_acc/(step+1)*ep_recall/(step+1)/(ep_acc/(step+1)+ep_recall/(step+1))\n",
        "                               ), end='')\n",
        "        print('\\ntest loss: %.2f acc: %.4f recall: %.4f F1: %.4f'\n",
        "                % (ep_loss/(step+1), ep_acc/(step+1),ep_recall/(step+1),\n",
        "                   2*ep_acc/(step+1)*ep_recall/(step+1)/(ep_acc/(step+1)+ep_recall/(step+1))))"
      ],
      "execution_count": null,
      "outputs": []
    },
    {
      "cell_type": "code",
      "metadata": {
        "id": "_tUsvB1uIyFw",
        "colab_type": "code",
        "colab": {}
      },
      "source": [
        "# create test file for kaggle\n",
        "def testOutput(model):\n",
        "    if torch.cuda.is_available():\n",
        "        model = model.to('cuda')\n",
        "        print('using GPU')\n",
        "    else:\n",
        "        print('using CPU')\n",
        "    ## set model to evaluation mode\n",
        "    model.eval()\n",
        "    ## evaluation\n",
        "    ep_loss = 0.0\n",
        "    ep_acc = 0.0\n",
        "    pred_list=[]\n",
        "    with torch.no_grad():\n",
        "        for step,(x,y) in enumerate(Realtest_loader):\n",
        "            x=x.float()\n",
        "            if torch.cuda.is_available():\n",
        "                x = x.to('cuda')\n",
        "            # calculate output\n",
        "            p = model(x)\n",
        "            pred = F.sigmoid(p)>0.5\n",
        "            pred_list.append(pred)\n",
        "\n",
        "            if step % 5 == 0:\n",
        "                print('\\rtest step: %d '%step, end='')\n",
        "    return pred_list\n",
        "def vector_to_label(vec):\n",
        "    output=[]\n",
        "    for block in vec:\n",
        "        for label in block:\n",
        "            string=''\n",
        "            for i in range(len(label)):\n",
        "                if label[i] ==True:\n",
        "                    string += ' ' + str(i+1)\n",
        "            string = string.strip()\n",
        "            output.append(string)\n",
        "    return output\n",
        "def saveTestLabelFile(model,filename='test_label_1.csv'):\n",
        "    out=testOutput(model)\n",
        "    pre_lsit=vector_to_label(out)\n",
        "    test_image_list=labels_test['ImageID']\n",
        "    dataFrame=pd.DataFrame({'ImageID':test_image_list,'Labels':pre_lsit})\n",
        "    dataFrame.to_csv(filename,index=False,sep=',')"
      ],
      "execution_count": null,
      "outputs": []
    },
    {
      "cell_type": "markdown",
      "metadata": {
        "id": "aDl0gOHaAAFZ",
        "colab_type": "text"
      },
      "source": [
        "## Alexnet"
      ]
    },
    {
      "cell_type": "code",
      "metadata": {
        "id": "T61pwkBRmofl",
        "colab_type": "code",
        "colab": {}
      },
      "source": [
        "class AlexNet(nn.Module):\n",
        "    def __init__(self, num_classes=1000, stem_stride=4):\n",
        "        # invoke super class initialisation method\n",
        "        super(AlexNet, self).__init__()\n",
        "        \n",
        "        # define the CNN:\n",
        "        # 1. define feature extraction layers\n",
        "        self.features = nn.Sequential(\n",
        "            # conv-relu-pooling\n",
        "            nn.Conv2d(3, 64, kernel_size=11, stride=stem_stride, padding=2),\n",
        "            nn.ReLU(inplace=True),\n",
        "            nn.MaxPool2d(kernel_size=3, stride=2),\n",
        "            # conv-relu-pooling\n",
        "            nn.Conv2d(64, 192, kernel_size=5, padding=2),\n",
        "            nn.ReLU(inplace=True),\n",
        "            nn.MaxPool2d(kernel_size=3, stride=2),\n",
        "            # conv-relu-conv-relu-conv-relu-pooling\n",
        "            nn.Conv2d(192, 384, kernel_size=3, padding=1),\n",
        "            nn.ReLU(inplace=True),\n",
        "            nn.Conv2d(384, 256, kernel_size=3, padding=1),\n",
        "            nn.ReLU(inplace=True),\n",
        "            nn.Conv2d(256, 256, kernel_size=3, padding=1),\n",
        "            nn.ReLU(inplace=True),\n",
        "            nn.MaxPool2d(kernel_size=3, stride=2),\n",
        "        )\n",
        "        # 2. define average pooling layer\n",
        "        self.avgpool = nn.AdaptiveAvgPool2d((6, 6))\n",
        "        # 3. define fully connected layers\n",
        "        self.classifier = nn.Sequential(\n",
        "            nn.Dropout(),                   # use dropout\n",
        "            nn.Linear(256 * 6 * 6, 4096),\n",
        "            nn.ReLU(inplace=True),\n",
        "            nn.Dropout(),                   # use dropout\n",
        "            nn.Linear(4096, 4096),\n",
        "            nn.ReLU(inplace=True),\n",
        "            nn.Linear(4096, num_classes),\n",
        "            # nn.Softmax(),  # steven add\n",
        "        )\n",
        "\n",
        "    # define forward-propagation\n",
        "    def forward(self, x):\n",
        "        # feature extraction\n",
        "        x = self.features(x)\n",
        "        # adaptive pooling\n",
        "        x = self.avgpool(x)\n",
        "        # flat the feature map\n",
        "        x = torch.flatten(x, 1)\n",
        "        # classification\n",
        "        x = self.classifier(x)\n",
        "        # x= F.sigmoid(x)\n",
        "        return x"
      ],
      "execution_count": null,
      "outputs": []
    },
    {
      "cell_type": "code",
      "metadata": {
        "id": "ci7gdnF43Zqx",
        "colab_type": "code",
        "colab": {
          "base_uri": "https://localhost:8080/",
          "height": 120,
          "referenced_widgets": [
            "f56f0e6745b44eedbddf5a310b407b94",
            "771d74a2129c45d1a5cd72264fb88a83",
            "5be81e8e3c03430eadb353b17df684b8",
            "edef99798f43466eba67ba7e8210af5c",
            "fe19ce38590f4ca9ae9327a16abde2d3",
            "298c69ff6afb4e34a1a508ed3318c0ba",
            "96a1542472c145a5812ff20547f984a8",
            "1e1eeabd74b6488eab20bd353bfd99dc"
          ]
        },
        "outputId": "25673b91-47e1-435e-cf19-88a9976c45b3"
      },
      "source": [
        "# pretrained model url\n",
        "alexnet_url = \"https://download.pytorch.org/models/alexnet-owt-4df8aa71.pth\"\n",
        "# create a network\n",
        "model_pre = AlexNet()\n",
        "# load pretrained network from url\n",
        "state_dict = load_state_dict_from_url(alexnet_url)\n",
        "model_pre.load_state_dict(state_dict)\n",
        "model= nn.Sequential(model_pre,nn.Linear(1000, 19)) # Use it as usual out = model(input)\n",
        "if torch.cuda.is_available():\n",
        "    print('using GPU')\n",
        "    model = model.to('cuda')\n",
        "else:\n",
        "    print('using CPU')"
      ],
      "execution_count": null,
      "outputs": [
        {
          "output_type": "stream",
          "text": [
            "Downloading: \"https://download.pytorch.org/models/alexnet-owt-4df8aa71.pth\" to /root/.cache/torch/checkpoints/alexnet-owt-4df8aa71.pth\n"
          ],
          "name": "stderr"
        },
        {
          "output_type": "display_data",
          "data": {
            "application/vnd.jupyter.widget-view+json": {
              "model_id": "f56f0e6745b44eedbddf5a310b407b94",
              "version_minor": 0,
              "version_major": 2
            },
            "text/plain": [
              "HBox(children=(FloatProgress(value=0.0, max=244418560.0), HTML(value='')))"
            ]
          },
          "metadata": {
            "tags": []
          }
        },
        {
          "output_type": "stream",
          "text": [
            "\n",
            "using GPU\n"
          ],
          "name": "stdout"
        }
      ]
    },
    {
      "cell_type": "code",
      "metadata": {
        "id": "ykA0LWM0o8GF",
        "colab_type": "code",
        "colab": {
          "base_uri": "https://localhost:8080/",
          "height": 258
        },
        "outputId": "d1ab167e-d888-4e55-ed05-6d41a0609676"
      },
      "source": [
        "from sklearn.metrics import accuracy_score\n",
        "from torch.optim import lr_scheduler\n",
        "learning_rate = 0.001\n",
        "epochs = 5\n",
        "\n",
        "# utilise GPU\n",
        "if torch.cuda.is_available():\n",
        "    model = model.to('cuda')\n",
        "    print('using GPU')\n",
        "else:\n",
        "    print('using CPU')\n",
        "\n",
        "# define optimizer\n",
        "# optimizer = torch.optim.SGD(model.parameters(), learning_rate, momentum=0.9)\n",
        "optimizer = torch.optim.SGD(model.parameters(), lr=0.001, momentum=0.9,weight_decay =1e-8) \n",
        "# optimizer = torch.optim.Adam(model.parameters(), learning_rate)\n",
        "exp_lr_scheduler = lr_scheduler.StepLR(optimizer, step_size=5, gamma=0.1)\n",
        "# define loss function\n",
        "criterion = nn.BCEWithLogitsLoss()\n",
        "# training\n",
        "## set model to training mode\n",
        "model.train()\n",
        "## start training\n",
        "for ep in range(epochs):\n",
        "    ep_loss = 0.0\n",
        "    ep_acc = 0.0\n",
        "    ep_recall=0.0\n",
        "    for step, (x,y) in enumerate(train_loader):\n",
        "        x=x.float()\n",
        "        y=y.float()\n",
        "        if torch.cuda.is_available():\n",
        "            # print('cuda')\n",
        "            x = x.to('cuda')\n",
        "            y = y.to('cuda')\n",
        "        # set gradient to zero        \n",
        "        optimizer.zero_grad()\n",
        "        # calculate output\n",
        "        p = model(x)\n",
        "        # calculate metrics\n",
        "        loss = criterion(p, y)\n",
        "        pred = F.sigmoid(p)\n",
        "        target = (y)\n",
        "        acc ,recall= calculate_acuracy_mode_one(pred,target)\n",
        "        ep_loss += loss\n",
        "        ep_acc += acc\n",
        "        ep_recall+=recall\n",
        "        # back-prop\n",
        "        loss.backward()  \n",
        "        # update parameters\n",
        "        optimizer.step()\n",
        "        if step % 5 == 0:\n",
        "            print('\\repoch: %d step: %d loss: %.8f acc: %.4f recall: %.4f'\n",
        "                  % (ep, step, ep_loss/(step+1), ep_acc/(step+1),ep_recall/(step+1)), end='')\n",
        "    exp_lr_scheduler.step()\n",
        "    print('\\nepoch: %d loss: %.2f acc: %.4f recall: %.4f'\n",
        "          % (ep, ep_loss/(step+1), ep_acc/(step+1),ep_recall/(step+1)))  "
      ],
      "execution_count": null,
      "outputs": [
        {
          "output_type": "stream",
          "text": [
            "using GPU\n"
          ],
          "name": "stdout"
        },
        {
          "output_type": "stream",
          "text": [
            "/usr/local/lib/python3.6/dist-packages/torch/nn/functional.py:1569: UserWarning: nn.functional.sigmoid is deprecated. Use torch.sigmoid instead.\n",
            "  warnings.warn(\"nn.functional.sigmoid is deprecated. Use torch.sigmoid instead.\")\n"
          ],
          "name": "stderr"
        },
        {
          "output_type": "stream",
          "text": [
            "epoch: 0 step: 1810 loss: 0.15377782 acc: 0.7954 recall: 0.5315\n",
            "epoch: 0 loss: 0.15 acc: 0.7953 recall: 0.5315\n",
            "epoch: 1 step: 1810 loss: 0.13502792 acc: 0.8220 recall: 0.5671\n",
            "epoch: 1 loss: 0.13 acc: 0.8221 recall: 0.5673\n",
            "epoch: 2 step: 1810 loss: 0.13047019 acc: 0.8282 recall: 0.5824\n",
            "epoch: 2 loss: 0.13 acc: 0.8281 recall: 0.5823\n",
            "epoch: 3 step: 1810 loss: 0.12828237 acc: 0.8316 recall: 0.5842\n",
            "epoch: 3 loss: 0.13 acc: 0.8316 recall: 0.5842\n",
            "epoch: 4 step: 1810 loss: 0.12621318 acc: 0.8350 recall: 0.5936\n",
            "epoch: 4 loss: 0.13 acc: 0.8351 recall: 0.5936\n"
          ],
          "name": "stdout"
        }
      ]
    },
    {
      "cell_type": "code",
      "metadata": {
        "id": "XaD5Bk1nFX8R",
        "colab_type": "code",
        "colab": {}
      },
      "source": [
        "# save model\n",
        "torch.save(model.state_dict(), Path+'alexnet1')"
      ],
      "execution_count": null,
      "outputs": []
    },
    {
      "cell_type": "code",
      "metadata": {
        "id": "G1icZfvnAIO3",
        "colab_type": "code",
        "colab": {
          "base_uri": "https://localhost:8080/",
          "height": 34
        },
        "outputId": "c59fba8f-0a6b-4764-cc1e-97a35cf31517"
      },
      "source": [
        "# load model\n",
        "model_pre = AlexNet()\n",
        "alexnet= nn.Sequential(model_pre,nn.Linear(1000, 19)) \n",
        "alexnet.load_state_dict(torch.load(Path+'alexnet1'))"
      ],
      "execution_count": null,
      "outputs": [
        {
          "output_type": "execute_result",
          "data": {
            "text/plain": [
              "<All keys matched successfully>"
            ]
          },
          "metadata": {
            "tags": []
          },
          "execution_count": 92
        }
      ]
    },
    {
      "cell_type": "code",
      "metadata": {
        "id": "wxNWrouP-IWX",
        "colab_type": "code",
        "colab": {
          "base_uri": "https://localhost:8080/",
          "height": 122
        },
        "outputId": "fd87d3a4-a4c8-43e9-a377-ce740682a6fd"
      },
      "source": [
        "# validation\n",
        "evaluation(alexnet)"
      ],
      "execution_count": null,
      "outputs": [
        {
          "output_type": "stream",
          "text": [
            "using GPU\n"
          ],
          "name": "stdout"
        },
        {
          "output_type": "stream",
          "text": [
            "/usr/local/lib/python3.6/dist-packages/torch/nn/functional.py:1569: UserWarning: nn.functional.sigmoid is deprecated. Use torch.sigmoid instead.\n",
            "  warnings.warn(\"nn.functional.sigmoid is deprecated. Use torch.sigmoid instead.\")\n"
          ],
          "name": "stderr"
        },
        {
          "output_type": "stream",
          "text": [
            "test step: 60 loss: 0.14 acc: 0.7837 recall: 0.6107 F1: 0.6864\n",
            "test loss: 0.14 acc: 0.7859 recall: 0.6132 F1: 0.6889\n"
          ],
          "name": "stdout"
        }
      ]
    },
    {
      "cell_type": "code",
      "metadata": {
        "id": "U6kdyb9YHOTD",
        "colab_type": "code",
        "colab": {}
      },
      "source": [
        "# output csv file \n",
        "saveTestLabelFile(alexnet,'test_label_alexnet.csv')"
      ],
      "execution_count": null,
      "outputs": []
    },
    {
      "cell_type": "markdown",
      "metadata": {
        "id": "ZcwBim4I53OW",
        "colab_type": "text"
      },
      "source": [
        "## VGG"
      ]
    },
    {
      "cell_type": "code",
      "metadata": {
        "id": "TL6daMvZ51Xf",
        "colab_type": "code",
        "colab": {}
      },
      "source": [
        "#standard VGG model stucture\n",
        "#reference: https://github.com/pytorch/vision/blob/master/torchvision/models/vgg.py\n",
        "\n",
        "__all__ = [\n",
        "    'VGG', 'vgg11', 'vgg11_bn', 'vgg13', 'vgg13_bn', 'vgg16', 'vgg16_bn',\n",
        "    'vgg19_bn', 'vgg19',\n",
        "]\n",
        "\n",
        "\n",
        "model_urls = {\n",
        "    'vgg11': 'https://download.pytorch.org/models/vgg11-bbd30ac9.pth',\n",
        "    'vgg13': 'https://download.pytorch.org/models/vgg13-c768596a.pth',\n",
        "    'vgg16': 'https://download.pytorch.org/models/vgg16-397923af.pth',\n",
        "    'vgg19': 'https://download.pytorch.org/models/vgg19-dcbb9e9d.pth',\n",
        "    'vgg11_bn': 'https://download.pytorch.org/models/vgg11_bn-6002323d.pth',\n",
        "    'vgg13_bn': 'https://download.pytorch.org/models/vgg13_bn-abd245e5.pth',\n",
        "    'vgg16_bn': 'https://download.pytorch.org/models/vgg16_bn-6c64b313.pth',\n",
        "    'vgg19_bn': 'https://download.pytorch.org/models/vgg19_bn-c79401a0.pth',\n",
        "}\n",
        "\n",
        "\n",
        "class VGG(nn.Module):\n",
        "\n",
        "    def __init__(self, features, num_classes=1000, init_weights=True):\n",
        "        super(VGG, self).__init__()\n",
        "        self.features = features\n",
        "        self.avgpool = nn.AdaptiveAvgPool2d((7, 7))\n",
        "        self.classifier = nn.Sequential(\n",
        "            nn.Linear(512 * 7 * 7, 4096),\n",
        "            nn.ReLU(True),\n",
        "            nn.Dropout(),\n",
        "            nn.Linear(4096, 4096),\n",
        "            nn.ReLU(True),\n",
        "            nn.Dropout(),\n",
        "            nn.Linear(4096, num_classes),\n",
        "        )\n",
        "        if init_weights:\n",
        "            self._initialize_weights()\n",
        "\n",
        "    def forward(self, x):\n",
        "        x = self.features(x)\n",
        "        x = self.avgpool(x)\n",
        "        x = torch.flatten(x, 1)\n",
        "        x = self.classifier(x)\n",
        "        # x= torch.sigmoid(x)    # steven add\n",
        "        return x\n",
        "\n",
        "    def _initialize_weights(self):\n",
        "        for m in self.modules():\n",
        "            if isinstance(m, nn.Conv2d):\n",
        "                nn.init.kaiming_normal_(m.weight, mode='fan_out', nonlinearity='relu')\n",
        "                if m.bias is not None:\n",
        "                    nn.init.constant_(m.bias, 0)\n",
        "            elif isinstance(m, nn.BatchNorm2d):\n",
        "                nn.init.constant_(m.weight, 1)\n",
        "                nn.init.constant_(m.bias, 0)\n",
        "            elif isinstance(m, nn.Linear):\n",
        "                nn.init.normal_(m.weight, 0, 0.01)\n",
        "                nn.init.constant_(m.bias, 0)\n",
        "\n",
        "\n",
        "def make_layers(cfg, batch_norm=False):\n",
        "    layers = []\n",
        "    in_channels = 3\n",
        "    for v in cfg:\n",
        "        if v == 'M':\n",
        "            layers += [nn.MaxPool2d(kernel_size=2, stride=2)]\n",
        "        else:\n",
        "            conv2d = nn.Conv2d(in_channels, v, kernel_size=3, padding=1)\n",
        "            if batch_norm:\n",
        "                layers += [conv2d, nn.BatchNorm2d(v), nn.ReLU(inplace=True)]\n",
        "            else:\n",
        "                layers += [conv2d, nn.ReLU(inplace=True)]\n",
        "            in_channels = v\n",
        "    return nn.Sequential(*layers)\n",
        "\n",
        "\n",
        "cfgs = {\n",
        "    'A': [64, 'M', 128, 'M', 256, 256, 'M', 512, 512, 'M', 512, 512, 'M'],\n",
        "    'B': [64, 64, 'M', 128, 128, 'M', 256, 256, 'M', 512, 512, 'M', 512, 512, 'M'],\n",
        "    'D': [64, 64, 'M', 128, 128, 'M', 256, 256, 256, 'M', 512, 512, 512, 'M', 512, 512, 512, 'M'],\n",
        "    'E': [64, 64, 'M', 128, 128, 'M', 256, 256, 256, 256, 'M', 512, 512, 512, 512, 'M', 512, 512, 512, 512, 'M'],\n",
        "}\n",
        "\n",
        "def _vgg(arch, cfg, batch_norm, pretrained, progress, **kwargs):\n",
        "    if pretrained:\n",
        "        kwargs['init_weights'] = False\n",
        "    model = VGG(make_layers(cfgs[cfg], batch_norm=batch_norm), **kwargs)\n",
        "    if pretrained:\n",
        "        state_dict = load_state_dict_from_url(model_urls[arch],\n",
        "                                              progress=progress)\n",
        "        model.load_state_dict(state_dict)\n",
        "    return model\n",
        "\n",
        "\n",
        "def vgg19_bn(pretrained=False, progress=True, **kwargs):\n",
        "    r\"\"\"VGG 19-layer model (configuration 'E') with batch normalization\n",
        "    `\"Very Deep Convolutional Networks For Large-Scale Image Recognition\" <https://arxiv.org/pdf/1409.1556.pdf>`_\n",
        "    Args:\n",
        "        pretrained (bool): If True, returns a model pre-trained on ImageNet\n",
        "        progress (bool): If True, displays a progress bar of the download to stderr\n",
        "    \"\"\"\n",
        "    return _vgg('vgg19_bn', 'E', True, pretrained, progress, **kwargs)"
      ],
      "execution_count": null,
      "outputs": []
    },
    {
      "cell_type": "code",
      "metadata": {
        "id": "m6KiVvUI8oVN",
        "colab_type": "code",
        "colab": {
          "base_uri": "https://localhost:8080/",
          "height": 83,
          "referenced_widgets": [
            "dc5613447be04eb0847225167ff07e02",
            "368c771f60904e85bc89723400d7a742",
            "b5e1d0ca98534711bf125ba6a07752ab",
            "4900de1a406d472ca193a7b3a175a724",
            "18c352059f174d6ca7aaf073b1b90764",
            "839c6d63271a4115bc6dcebb12be5cc1",
            "925dbc1bf31f4bd79b62d8797e260a79",
            "60da6a4b485c455cb8c5b3d3da2ed47d"
          ]
        },
        "outputId": "0e27713e-c58a-418b-d1cf-6d05efb42568"
      },
      "source": [
        "# load pretrained model and add an last layer for 19 classes\n",
        "model_pre = vgg19_bn(pretrained=True)\n",
        "vggmodel= nn.Sequential(model_pre,nn.Linear(1000, 19))"
      ],
      "execution_count": null,
      "outputs": [
        {
          "output_type": "stream",
          "text": [
            "Downloading: \"https://download.pytorch.org/models/vgg19_bn-c79401a0.pth\" to /root/.cache/torch/checkpoints/vgg19_bn-c79401a0.pth\n"
          ],
          "name": "stderr"
        },
        {
          "output_type": "display_data",
          "data": {
            "application/vnd.jupyter.widget-view+json": {
              "model_id": "dc5613447be04eb0847225167ff07e02",
              "version_minor": 0,
              "version_major": 2
            },
            "text/plain": [
              "HBox(children=(FloatProgress(value=0.0, max=574769405.0), HTML(value='')))"
            ]
          },
          "metadata": {
            "tags": []
          }
        },
        {
          "output_type": "stream",
          "text": [
            "\n"
          ],
          "name": "stdout"
        }
      ]
    },
    {
      "cell_type": "code",
      "metadata": {
        "id": "NmzspU_-553D",
        "colab_type": "code",
        "colab": {
          "base_uri": "https://localhost:8080/",
          "height": 204
        },
        "outputId": "7181ab96-265a-45da-fb50-4f63cf5ba512"
      },
      "source": [
        "learning_rate = 0.1\n",
        "epochs = 5\n",
        "# utilise GPU\n",
        "if torch.cuda.is_available():\n",
        "    vggmodel = vggmodel.to('cuda')\n",
        "    print('using GPU')\n",
        "else:\n",
        "    print('using CPU')\n",
        "# define optimizer\n",
        "optimizer = torch.optim.SGD(vggmodel.parameters(), learning_rate, momentum=0.9)\n",
        "# optimizer = torch.optim.Adam(model.parameters(), learning_rate)\n",
        "exp_lr_scheduler = lr_scheduler.StepLR(optimizer, step_size=5, gamma=0.1)\n",
        "# define loss function\n",
        "criterion = nn.BCEWithLogitsLoss()\n",
        "# training\n",
        "## set model to training mode\n",
        "vggmodel.train()\n",
        "## start training\n",
        "for ep in range(epochs):\n",
        "    ep_loss = 0.0\n",
        "    ep_acc = 0.0\n",
        "    ep_recall=0.0\n",
        "    for step, (x,y) in enumerate(train_loader):\n",
        "        x=x.float()\n",
        "        y=y.float()\n",
        "        if torch.cuda.is_available():\n",
        "            x = x.to('cuda')\n",
        "            y = y.to('cuda')\n",
        "        # set gradient to zero        \n",
        "        optimizer.zero_grad()\n",
        "        # calculate output\n",
        "        p = vggmodel(x)\n",
        "        loss = criterion(p, y)\n",
        "        pred = torch.sigmoid(p)\n",
        "        target = (y)\n",
        "        acc,recall = calculate_acuracy_mode_one(pred,target)\n",
        "        ep_loss += loss\n",
        "        ep_acc += acc\n",
        "        ep_recall +=recall\n",
        "        # back-prop\n",
        "        loss.backward()\n",
        "        # update parameters\n",
        "        optimizer.step()\n",
        "        if step % 5 == 0:\n",
        "            print('\\repoch: %d step: %d loss: %.2f acc: %.4f recall: %.4f'\n",
        "                  % (ep, step, ep_loss/(step+1), ep_acc/(step+1),ep_recall/(step+1)), end='')\n",
        "    exp_lr_scheduler.step()\n",
        "    print('\\nepoch: %d loss: %.2f acc: %.4f'\n",
        "          % (ep, ep_loss/(step+1), ep_acc/(step+1)))"
      ],
      "execution_count": null,
      "outputs": [
        {
          "output_type": "stream",
          "text": [
            "using GPU\n",
            "epoch: 0 step: 1810 loss: 0.15 acc: 0.8103 recall: 0.5419\n",
            "epoch: 0 loss: 0.15 acc: 0.8104\n",
            "epoch: 1 step: 1810 loss: 0.11 acc: 0.8539 recall: 0.6406\n",
            "epoch: 1 loss: 0.11 acc: 0.8539\n",
            "epoch: 2 step: 1810 loss: 0.10 acc: 0.8693 recall: 0.6808\n",
            "epoch: 2 loss: 0.10 acc: 0.8692\n",
            "epoch: 3 step: 1810 loss: 0.09 acc: 0.8807 recall: 0.7093\n",
            "epoch: 3 loss: 0.09 acc: 0.8807\n",
            "epoch: 4 step: 1810 loss: 0.09 acc: 0.8898 recall: 0.7351\n",
            "epoch: 4 loss: 0.09 acc: 0.8898\n"
          ],
          "name": "stdout"
        }
      ]
    },
    {
      "cell_type": "code",
      "metadata": {
        "id": "ilCr8uhU_ihm",
        "colab_type": "code",
        "colab": {
          "base_uri": "https://localhost:8080/",
          "height": 102
        },
        "outputId": "1170cca6-e5bd-4462-9ed5-e652af35e264"
      },
      "source": [
        "#validation\n",
        "evaluation(vggmodel)"
      ],
      "execution_count": null,
      "outputs": [
        {
          "output_type": "stream",
          "text": [
            "using GPU\n"
          ],
          "name": "stdout"
        },
        {
          "output_type": "stream",
          "text": [
            "/usr/local/lib/python3.6/dist-packages/torch/nn/functional.py:1569: UserWarning: nn.functional.sigmoid is deprecated. Use torch.sigmoid instead.\n",
            "  warnings.warn(\"nn.functional.sigmoid is deprecated. Use torch.sigmoid instead.\")\n"
          ],
          "name": "stderr"
        },
        {
          "output_type": "stream",
          "text": [
            "test step: 60 loss: 0.11 acc: 0.8389 recall: 0.6577 F1: 0.7373\n",
            "test loss: 0.11 acc: 0.8398 recall: 0.6584 F1: 0.7381\n"
          ],
          "name": "stdout"
        }
      ]
    },
    {
      "cell_type": "code",
      "metadata": {
        "id": "g4PtRirM_K3K",
        "colab_type": "code",
        "colab": {}
      },
      "source": [
        "# save model parameters\n",
        "torch.save(vggmodel.state_dict(), Path+'vgg1')"
      ],
      "execution_count": null,
      "outputs": []
    },
    {
      "cell_type": "code",
      "metadata": {
        "id": "d2W3obeC_WFa",
        "colab_type": "code",
        "colab": {
          "base_uri": "https://localhost:8080/",
          "height": 34
        },
        "outputId": "973840f8-be87-46f5-b2c2-58a79897d335"
      },
      "source": [
        "# load model parameters\n",
        "model_pre = vgg19_bn(pretrained=False)\n",
        "vggmodel= nn.Sequential(model_pre,nn.Linear(1000, 19)) \n",
        "vggmodel.load_state_dict(torch.load(Path+'vgg1'))"
      ],
      "execution_count": null,
      "outputs": [
        {
          "output_type": "execute_result",
          "data": {
            "text/plain": [
              "<All keys matched successfully>"
            ]
          },
          "metadata": {
            "tags": []
          },
          "execution_count": 157
        }
      ]
    },
    {
      "cell_type": "code",
      "metadata": {
        "id": "ZtucL7-6BSoh",
        "colab_type": "code",
        "colab": {
          "base_uri": "https://localhost:8080/",
          "height": 105
        },
        "outputId": "a56d4d69-0efd-4198-89ac-677c7753c276"
      },
      "source": [
        "# create test file for kaggle\n",
        "saveTestLabelFile(vggmodel,'test_label_vgg1.csv')"
      ],
      "execution_count": null,
      "outputs": [
        {
          "output_type": "stream",
          "text": [
            "using GPU\n"
          ],
          "name": "stdout"
        },
        {
          "output_type": "stream",
          "text": [
            "/usr/local/lib/python3.6/dist-packages/torch/nn/functional.py:1569: UserWarning: nn.functional.sigmoid is deprecated. Use torch.sigmoid instead.\n",
            "  warnings.warn(\"nn.functional.sigmoid is deprecated. Use torch.sigmoid instead.\")\n"
          ],
          "name": "stderr"
        },
        {
          "output_type": "stream",
          "text": [
            "test step: 495 "
          ],
          "name": "stdout"
        }
      ]
    },
    {
      "cell_type": "markdown",
      "metadata": {
        "id": "fFa-fA4rDi0z",
        "colab_type": "text"
      },
      "source": [
        "## ResNet"
      ]
    },
    {
      "cell_type": "markdown",
      "metadata": {
        "id": "pC1WCuGyVP9X",
        "colab_type": "text"
      },
      "source": [
        "### preparation (Must run)"
      ]
    },
    {
      "cell_type": "code",
      "metadata": {
        "id": "0MuDmuPfDkX-",
        "colab_type": "code",
        "colab": {}
      },
      "source": [
        "#reference: https://github.com/pytorch/vision/blob/master/torchvision/models/resnet.py\n",
        "__all__ = ['ResNet', 'resnet18', 'resnet34', 'resnet50', 'resnet101',\n",
        "           'resnet152', 'resnext50_32x4d', 'resnext101_32x8d',\n",
        "           'wide_resnet50_2', 'wide_resnet101_2']\n",
        "\n",
        "model_urls = {\n",
        "    'resnet18': 'https://download.pytorch.org/models/resnet18-5c106cde.pth',\n",
        "    'resnet34': 'https://download.pytorch.org/models/resnet34-333f7ec4.pth',\n",
        "    'resnet50': 'https://download.pytorch.org/models/resnet50-19c8e357.pth',\n",
        "    'resnet101': 'https://download.pytorch.org/models/resnet101-5d3b4d8f.pth',\n",
        "    'resnet152': 'https://download.pytorch.org/models/resnet152-b121ed2d.pth',\n",
        "    'resnext50_32x4d': 'https://download.pytorch.org/models/resnext50_32x4d-7cdf4587.pth',\n",
        "    'resnext101_32x8d': 'https://download.pytorch.org/models/resnext101_32x8d-8ba56ff5.pth',\n",
        "    'wide_resnet50_2': 'https://download.pytorch.org/models/wide_resnet50_2-95faca4d.pth',\n",
        "    'wide_resnet101_2': 'https://download.pytorch.org/models/wide_resnet101_2-32ee1156.pth',\n",
        "}\n",
        "\n",
        "\n",
        "def conv3x3(in_planes, out_planes, stride=1, groups=1, dilation=1):\n",
        "    \"\"\"3x3 convolution with padding\"\"\"\n",
        "    return nn.Conv2d(in_planes, out_planes, kernel_size=3, stride=stride,\n",
        "                     padding=dilation, groups=groups, bias=False, dilation=dilation)\n",
        "\n",
        "\n",
        "def conv1x1(in_planes, out_planes, stride=1):\n",
        "    \"\"\"1x1 convolution\"\"\"\n",
        "    return nn.Conv2d(in_planes, out_planes, kernel_size=1, stride=stride, bias=False)\n",
        "\n",
        "\n",
        "class BasicBlock(nn.Module):\n",
        "    expansion = 1\n",
        "\n",
        "    def __init__(self, inplanes, planes, stride=1, downsample=None, groups=1,\n",
        "                 base_width=64, dilation=1, norm_layer=None):\n",
        "        super(BasicBlock, self).__init__()\n",
        "        if norm_layer is None:\n",
        "            norm_layer = nn.BatchNorm2d\n",
        "        if groups != 1 or base_width != 64:\n",
        "            raise ValueError('BasicBlock only supports groups=1 and base_width=64')\n",
        "        if dilation > 1:\n",
        "            raise NotImplementedError(\"Dilation > 1 not supported in BasicBlock\")\n",
        "        # Both self.conv1 and self.downsample layers downsample the input when stride != 1\n",
        "        self.conv1 = conv3x3(inplanes, planes, stride)\n",
        "        self.bn1 = norm_layer(planes)\n",
        "        self.relu = nn.ReLU(inplace=True)\n",
        "        self.conv2 = conv3x3(planes, planes)\n",
        "        self.bn2 = norm_layer(planes)\n",
        "        self.downsample = downsample\n",
        "        self.stride = stride\n",
        "\n",
        "    def forward(self, x):\n",
        "        identity = x\n",
        "\n",
        "        out = self.conv1(x)\n",
        "        out = self.bn1(out)\n",
        "        out = self.relu(out)\n",
        "\n",
        "        out = self.conv2(out)\n",
        "        out = self.bn2(out)\n",
        "\n",
        "        if self.downsample is not None:\n",
        "            identity = self.downsample(x)\n",
        "\n",
        "        out += identity\n",
        "        out = self.relu(out)\n",
        "\n",
        "        return out\n",
        "\n",
        "\n",
        "class Bottleneck(nn.Module):\n",
        "    # Bottleneck in torchvision places the stride for downsampling at 3x3 convolution(self.conv2)\n",
        "    # while original implementation places the stride at the first 1x1 convolution(self.conv1)\n",
        "    # according to \"Deep residual learning for image recognition\"https://arxiv.org/abs/1512.03385.\n",
        "    # This variant is also known as ResNet V1.5 and improves accuracy according to\n",
        "    # https://ngc.nvidia.com/catalog/model-scripts/nvidia:resnet_50_v1_5_for_pytorch.\n",
        "\n",
        "    expansion = 4\n",
        "\n",
        "    def __init__(self, inplanes, planes, stride=1, downsample=None, groups=1,\n",
        "                 base_width=64, dilation=1, norm_layer=None):\n",
        "        super(Bottleneck, self).__init__()\n",
        "        if norm_layer is None:\n",
        "            norm_layer = nn.BatchNorm2d\n",
        "        width = int(planes * (base_width / 64.)) * groups\n",
        "        # Both self.conv2 and self.downsample layers downsample the input when stride != 1\n",
        "        self.conv1 = conv1x1(inplanes, width)\n",
        "        self.bn1 = norm_layer(width)\n",
        "        self.conv2 = conv3x3(width, width, stride, groups, dilation)\n",
        "        self.bn2 = norm_layer(width)\n",
        "        self.conv3 = conv1x1(width, planes * self.expansion)\n",
        "        self.bn3 = norm_layer(planes * self.expansion)\n",
        "        self.relu = nn.ReLU(inplace=True)\n",
        "        self.downsample = downsample\n",
        "        self.stride = stride\n",
        "\n",
        "    def forward(self, x):\n",
        "        identity = x\n",
        "\n",
        "        out = self.conv1(x)\n",
        "        out = self.bn1(out)\n",
        "        out = self.relu(out)\n",
        "\n",
        "        out = self.conv2(out)\n",
        "        out = self.bn2(out)\n",
        "        out = self.relu(out)\n",
        "\n",
        "        out = self.conv3(out)\n",
        "        out = self.bn3(out)\n",
        "\n",
        "        if self.downsample is not None:\n",
        "            identity = self.downsample(x)\n",
        "\n",
        "        out += identity\n",
        "        out = self.relu(out)\n",
        "\n",
        "        return out\n",
        "\n",
        "\n",
        "class ResNet(nn.Module):\n",
        "\n",
        "    def __init__(self, block, layers, num_classes=1000, zero_init_residual=False,\n",
        "                 groups=1, width_per_group=64, replace_stride_with_dilation=None,\n",
        "                 norm_layer=None):\n",
        "        super(ResNet, self).__init__()\n",
        "        if norm_layer is None:\n",
        "            norm_layer = nn.BatchNorm2d\n",
        "        self._norm_layer = norm_layer\n",
        "\n",
        "        self.inplanes = 64\n",
        "        self.dilation = 1\n",
        "        if replace_stride_with_dilation is None:\n",
        "            # each element in the tuple indicates if we should replace\n",
        "            # the 2x2 stride with a dilated convolution instead\n",
        "            replace_stride_with_dilation = [False, False, False]\n",
        "        if len(replace_stride_with_dilation) != 3:\n",
        "            raise ValueError(\"replace_stride_with_dilation should be None \"\n",
        "                             \"or a 3-element tuple, got {}\".format(replace_stride_with_dilation))\n",
        "        self.groups = groups\n",
        "        self.base_width = width_per_group\n",
        "        self.conv1 = nn.Conv2d(3, self.inplanes, kernel_size=7, stride=2, padding=3,\n",
        "                               bias=False)\n",
        "        self.bn1 = norm_layer(self.inplanes)\n",
        "        self.relu = nn.ReLU(inplace=True)\n",
        "        self.maxpool = nn.MaxPool2d(kernel_size=3, stride=2, padding=1)\n",
        "        self.layer1 = self._make_layer(block, 64, layers[0])\n",
        "        self.layer2 = self._make_layer(block, 128, layers[1], stride=2,\n",
        "                                       dilate=replace_stride_with_dilation[0])\n",
        "        self.layer3 = self._make_layer(block, 256, layers[2], stride=2,\n",
        "                                       dilate=replace_stride_with_dilation[1])\n",
        "        self.layer4 = self._make_layer(block, 512, layers[3], stride=2,\n",
        "                                       dilate=replace_stride_with_dilation[2])\n",
        "        self.avgpool = nn.AdaptiveAvgPool2d((1, 1))\n",
        "        self.fc = nn.Linear(512 * block.expansion, num_classes)\n",
        "\n",
        "        for m in self.modules():\n",
        "            if isinstance(m, nn.Conv2d):\n",
        "                nn.init.kaiming_normal_(m.weight, mode='fan_out', nonlinearity='relu')\n",
        "            elif isinstance(m, (nn.BatchNorm2d, nn.GroupNorm)):\n",
        "                nn.init.constant_(m.weight, 1)\n",
        "                nn.init.constant_(m.bias, 0)\n",
        "\n",
        "        # Zero-initialize the last BN in each residual branch,\n",
        "        # so that the residual branch starts with zeros, and each residual block behaves like an identity.\n",
        "        # This improves the model by 0.2~0.3% according to https://arxiv.org/abs/1706.02677\n",
        "        if zero_init_residual:\n",
        "            for m in self.modules():\n",
        "                if isinstance(m, Bottleneck):\n",
        "                    nn.init.constant_(m.bn3.weight, 0)\n",
        "                elif isinstance(m, BasicBlock):\n",
        "                    nn.init.constant_(m.bn2.weight, 0)\n",
        "\n",
        "    def _make_layer(self, block, planes, blocks, stride=1, dilate=False):\n",
        "        norm_layer = self._norm_layer\n",
        "        downsample = None\n",
        "        previous_dilation = self.dilation\n",
        "        if dilate:\n",
        "            self.dilation *= stride\n",
        "            stride = 1\n",
        "        if stride != 1 or self.inplanes != planes * block.expansion:\n",
        "            downsample = nn.Sequential(\n",
        "                conv1x1(self.inplanes, planes * block.expansion, stride),\n",
        "                norm_layer(planes * block.expansion),\n",
        "            )\n",
        "\n",
        "        layers = []\n",
        "        layers.append(block(self.inplanes, planes, stride, downsample, self.groups,\n",
        "                            self.base_width, previous_dilation, norm_layer))\n",
        "        self.inplanes = planes * block.expansion\n",
        "        for _ in range(1, blocks):\n",
        "            layers.append(block(self.inplanes, planes, groups=self.groups,\n",
        "                                base_width=self.base_width, dilation=self.dilation,\n",
        "                                norm_layer=norm_layer))\n",
        "\n",
        "        return nn.Sequential(*layers)\n",
        "\n",
        "    def _forward_impl(self, x):\n",
        "        # See note [TorchScript super()]\n",
        "        x = self.conv1(x)\n",
        "        x = self.bn1(x)\n",
        "        x = self.relu(x)\n",
        "        x = self.maxpool(x)\n",
        "\n",
        "        x = self.layer1(x)\n",
        "        x = self.layer2(x)\n",
        "        x = self.layer3(x)\n",
        "        x = self.layer4(x)\n",
        "\n",
        "        x = self.avgpool(x)\n",
        "        x = torch.flatten(x, 1)\n",
        "        x = self.fc(x)\n",
        "\n",
        "        return x\n",
        "\n",
        "    def forward(self, x):\n",
        "        return self._forward_impl(x)\n",
        "\n",
        "\n",
        "def _resnet(arch, block, layers, pretrained, progress, **kwargs):\n",
        "    model = ResNet(block, layers, **kwargs)\n",
        "    if pretrained:\n",
        "        state_dict = load_state_dict_from_url(model_urls[arch],\n",
        "                                              progress=progress)\n",
        "        model.load_state_dict(state_dict)\n",
        "    return model\n",
        "\n",
        "\n",
        "def resnet34(pretrained=False, progress=True, **kwargs):\n",
        "    r\"\"\"ResNet-34 model from\n",
        "    `\"Deep Residual Learning for Image Recognition\" <https://arxiv.org/pdf/1512.03385.pdf>`_\n",
        "    Args:\n",
        "        pretrained (bool): If True, returns a model pre-trained on ImageNet\n",
        "        progress (bool): If True, displays a progress bar of the download to stderr\n",
        "    \"\"\"\n",
        "    return _resnet('resnet34', BasicBlock, [3, 4, 6, 3], pretrained, progress,\n",
        "                   **kwargs)\n",
        "\n",
        "\n",
        "def resnet50(pretrained=False, progress=True, **kwargs):\n",
        "    r\"\"\"ResNet-50 model from\n",
        "    `\"Deep Residual Learning for Image Recognition\" <https://arxiv.org/pdf/1512.03385.pdf>`_\n",
        "    Args:\n",
        "        pretrained (bool): If True, returns a model pre-trained on ImageNet\n",
        "        progress (bool): If True, displays a progress bar of the download to stderr\n",
        "    \"\"\"\n",
        "    return _resnet('resnet50', Bottleneck, [3, 4, 6, 3], pretrained, progress,\n",
        "                   **kwargs)\n",
        "\n",
        "\n",
        "def resnet101(pretrained=False, progress=True, **kwargs):\n",
        "    r\"\"\"ResNet-101 model from\n",
        "    `\"Deep Residual Learning for Image Recognition\" <https://arxiv.org/pdf/1512.03385.pdf>`_\n",
        "    Args:\n",
        "        pretrained (bool): If True, returns a model pre-trained on ImageNet\n",
        "        progress (bool): If True, displays a progress bar of the download to stderr\n",
        "    \"\"\"\n",
        "    return _resnet('resnet101', Bottleneck, [3, 4, 23, 3], pretrained, progress,\n",
        "                   **kwargs)\n"
      ],
      "execution_count": null,
      "outputs": []
    },
    {
      "cell_type": "code",
      "metadata": {
        "id": "ELSWHSqzDvLZ",
        "colab_type": "code",
        "colab": {}
      },
      "source": [
        "from sklearn.metrics import accuracy_score\n",
        "learning_rate = 0.001\n",
        "epochs = 5\n",
        "\n",
        "# using pretrained\n",
        "# resmodel=resmodel\n",
        "def training_resnet(resmodel):\n",
        "    # utilise GPU\n",
        "    if torch.cuda.is_available():\n",
        "        resmodel = resmodel.to('cuda')\n",
        "        print('using GPU')\n",
        "    else:\n",
        "        print('using CPU')\n",
        "\n",
        "    # define optimizer\n",
        "    optimizer = torch.optim.SGD(resmodel.parameters(), learning_rate, momentum=0.9,weight_decay =1e-8)\n",
        "    # optimizer = torch.optim.Adam(resmodel.parameters(), learning_rate)\n",
        "    exp_lr_scheduler = lr_scheduler.StepLR(optimizer, step_size=5, gamma=0.1)\n",
        "    # define loss function\n",
        "    criterion = nn.BCEWithLogitsLoss()\n",
        "\n",
        "    # training\n",
        "    ## set model to training mode\n",
        "    resmodel.train()\n",
        "    ## start training\n",
        "    for ep in range(epochs):\n",
        "        ep_loss = 0.0\n",
        "        ep_acc = 0.0\n",
        "        ep_recall=0.0\n",
        "        for step, (x,y) in enumerate(train_loader):\n",
        "            x=x.float()\n",
        "            y=y.float()\n",
        "            if torch.cuda.is_available():\n",
        "                x = x.to('cuda')\n",
        "                y = y.to('cuda')\n",
        "            # set gradient to zero        \n",
        "            optimizer.zero_grad()\n",
        "            # calculate output\n",
        "            p = resmodel(x)\n",
        "            loss = criterion(p, y)\n",
        "            pred = (p)\n",
        "            target = (y)\n",
        "            acc,recall = calculate_acuracy_mode_one(pred,target)\n",
        "            ep_loss += loss\n",
        "            ep_acc += acc\n",
        "            ep_recall+=recall\n",
        "            # back-prop\n",
        "            loss.backward()\n",
        "            # update parameters\n",
        "            optimizer.step()\n",
        "            if step % 5 == 0:\n",
        "                print('\\rtest step: %d loss: %.2f acc: %.4f recall: %.4f F1: %.4f' \n",
        "                            % (step, ep_loss/(step+1), ep_acc/(step+1),ep_recall/(step+1),\n",
        "                               2*ep_acc/(step+1)*ep_recall/(step+1)/(ep_acc/(step+1)+ep_recall/(step+1))\n",
        "                               ), end='')\n",
        "        exp_lr_scheduler.step()\n",
        "        print('\\nepoch: %d loss: %.2f acc: %.4f recall: %.4f F1: %.4f'\n",
        "            % (ep, ep_loss/(step+1), ep_acc/(step+1),ep_recall/(step+1),\n",
        "               2*ep_acc/(step+1)*ep_recall/(step+1)/(ep_acc/(step+1)+ep_recall/(step+1))\n",
        "               ))\n",
        "        \n",
        "    return resmodel"
      ],
      "execution_count": null,
      "outputs": []
    },
    {
      "cell_type": "code",
      "metadata": {
        "id": "hh_pOjLl9089",
        "colab_type": "code",
        "colab": {}
      },
      "source": [
        "# load pretrained model\n",
        "model_pre_50 = models.resnet.resnet50(pretrained=True)\n",
        "resmodel_50= nn.Sequential(model_pre_50,nn.Linear(1000, 19)) \n",
        "\n",
        "model_pre = models.resnet.resnet101(pretrained=True)\n",
        "resmodel_101= nn.Sequential(model_pre,nn.Linear(1000, 19)) \n",
        "\n",
        "model_pre_152 = models.resnet.resnet152(pretrained=True)\n",
        "resmodel_152= nn.Sequential(model_pre_152,nn.Linear(1000, 19)) \n"
      ],
      "execution_count": null,
      "outputs": []
    },
    {
      "cell_type": "markdown",
      "metadata": {
        "id": "aWe7nRmcqF3O",
        "colab_type": "text"
      },
      "source": [
        "### res50"
      ]
    },
    {
      "cell_type": "code",
      "metadata": {
        "id": "CnuVusGmqFi3",
        "colab_type": "code",
        "colab": {
          "base_uri": "https://localhost:8080/",
          "height": 204
        },
        "outputId": "93d4a60e-43f5-439b-f5c5-36b87a093358"
      },
      "source": [
        "#training\n",
        "resmodel_50 = training_resnet(resmodel_50)"
      ],
      "execution_count": null,
      "outputs": [
        {
          "output_type": "stream",
          "text": [
            "using GPU\n",
            "test step: 1810 loss: 0.12 acc: 0.8992 recall: 0.5479 F1: 0.6809\n",
            "epoch: 0 loss: 0.12 acc: 0.8990 recall: 0.5480 F1: 0.6810\n",
            "test step: 1810 loss: 0.11 acc: 0.9120 recall: 0.6056 F1: 0.7279\n",
            "epoch: 1 loss: 0.11 acc: 0.9120 recall: 0.6057 F1: 0.7279\n",
            "test step: 1810 loss: 0.10 acc: 0.9179 recall: 0.6259 F1: 0.7443\n",
            "epoch: 2 loss: 0.10 acc: 0.9179 recall: 0.6258 F1: 0.7442\n",
            "test step: 1810 loss: 0.10 acc: 0.9219 recall: 0.6344 F1: 0.7516\n",
            "epoch: 3 loss: 0.10 acc: 0.9217 recall: 0.6342 F1: 0.7514\n",
            "test step: 1810 loss: 0.10 acc: 0.9237 recall: 0.6427 F1: 0.7580\n",
            "epoch: 4 loss: 0.10 acc: 0.9237 recall: 0.6428 F1: 0.7581\n"
          ],
          "name": "stdout"
        }
      ]
    },
    {
      "cell_type": "code",
      "metadata": {
        "id": "M3OHOdMyqxC9",
        "colab_type": "code",
        "colab": {
          "base_uri": "https://localhost:8080/",
          "height": 102
        },
        "outputId": "f6d0f992-e451-4374-ee55-6f9e73fc489e"
      },
      "source": [
        "#valiadation\n",
        "evaluation(resmodel_50)"
      ],
      "execution_count": null,
      "outputs": [
        {
          "output_type": "stream",
          "text": [
            "using GPU\n"
          ],
          "name": "stdout"
        },
        {
          "output_type": "stream",
          "text": [
            "/usr/local/lib/python3.6/dist-packages/torch/nn/functional.py:1569: UserWarning: nn.functional.sigmoid is deprecated. Use torch.sigmoid instead.\n",
            "  warnings.warn(\"nn.functional.sigmoid is deprecated. Use torch.sigmoid instead.\")\n"
          ],
          "name": "stderr"
        },
        {
          "output_type": "stream",
          "text": [
            "test step: 60 loss: 0.10 acc: 0.8671 recall: 0.7157 F1: 0.7842\n",
            "test loss: 0.10 acc: 0.8686 recall: 0.7150 F1: 0.7843\n"
          ],
          "name": "stdout"
        }
      ]
    },
    {
      "cell_type": "code",
      "metadata": {
        "id": "tnvtCXIzq0tM",
        "colab_type": "code",
        "colab": {}
      },
      "source": [
        "# save model\n",
        "torch.save(resmodel_50.state_dict(), Path+'resnet50')"
      ],
      "execution_count": null,
      "outputs": []
    },
    {
      "cell_type": "code",
      "metadata": {
        "id": "SzoNsBz-q6Ro",
        "colab_type": "code",
        "colab": {}
      },
      "source": [
        "# load model parameters\n",
        "model_pre_50 = models.resnet.resnet50(pretrained=True)\n",
        "resmodel_50= nn.Sequential(model_pre_50,nn.Linear(1000, 19)) \n",
        "resmodel_50 = resmodel_50.load_state_dict(torch.load(Path+'resnet50'))"
      ],
      "execution_count": null,
      "outputs": []
    },
    {
      "cell_type": "markdown",
      "metadata": {
        "id": "K9BOy7TMbkDA",
        "colab_type": "text"
      },
      "source": [
        "### res101"
      ]
    },
    {
      "cell_type": "code",
      "metadata": {
        "id": "0SK3dHvWQAfh",
        "colab_type": "code",
        "colab": {
          "base_uri": "https://localhost:8080/",
          "height": 204
        },
        "outputId": "2e0538c2-d1f9-4000-bafb-8172c02364b0"
      },
      "source": [
        "#training\n",
        "resmodel_101 = training_resnet(resmodel_101)"
      ],
      "execution_count": null,
      "outputs": [
        {
          "output_type": "stream",
          "text": [
            "using GPU\n",
            "test step: 1810 loss: 0.10 acc: 0.9088 recall: 0.6580 F1: 0.7633\n",
            "epoch: 0 loss: 0.10 acc: 0.9087 recall: 0.6579 F1: 0.7632\n",
            "test step: 1810 loss: 0.07 acc: 0.9374 recall: 0.7384 F1: 0.8261\n",
            "epoch: 1 loss: 0.07 acc: 0.9375 recall: 0.7384 F1: 0.8261\n",
            "test step: 1810 loss: 0.06 acc: 0.9472 recall: 0.7810 F1: 0.8561\n",
            "epoch: 2 loss: 0.06 acc: 0.9472 recall: 0.7810 F1: 0.8561\n",
            "test step: 1810 loss: 0.05 acc: 0.9549 recall: 0.8123 F1: 0.8778\n",
            "epoch: 3 loss: 0.05 acc: 0.9549 recall: 0.8123 F1: 0.8779\n",
            "test step: 1810 loss: 0.04 acc: 0.9601 recall: 0.8390 F1: 0.8955\n",
            "epoch: 4 loss: 0.04 acc: 0.9602 recall: 0.8391 F1: 0.8955\n"
          ],
          "name": "stdout"
        }
      ]
    },
    {
      "cell_type": "code",
      "metadata": {
        "id": "K9Eh3CCPGXIb",
        "colab_type": "code",
        "colab": {}
      },
      "source": [
        "#save model\n",
        "torch.save(resmodel_101.state_dict(), Path+'resnet101')"
      ],
      "execution_count": null,
      "outputs": []
    },
    {
      "cell_type": "code",
      "metadata": {
        "id": "LUS6-pzpGXLD",
        "colab_type": "code",
        "colab": {
          "base_uri": "https://localhost:8080/",
          "height": 34
        },
        "outputId": "c64cf262-6d85-4968-d57e-56ea9487b823"
      },
      "source": [
        "# load model parameters\n",
        "model_pre = models.resnet.resnet101(pretrained=True)\n",
        "resmodel_101= nn.Sequential(model_pre,nn.Linear(1000, 19)) \n",
        "resmodel_101.load_state_dict(torch.load(Path+'resnet101'))"
      ],
      "execution_count": null,
      "outputs": [
        {
          "output_type": "execute_result",
          "data": {
            "text/plain": [
              "<All keys matched successfully>"
            ]
          },
          "metadata": {
            "tags": []
          },
          "execution_count": 124
        }
      ]
    },
    {
      "cell_type": "code",
      "metadata": {
        "id": "HyN32xwEXHAX",
        "colab_type": "code",
        "colab": {
          "base_uri": "https://localhost:8080/",
          "height": 102
        },
        "outputId": "9844e0ea-dcc7-4c78-aaee-0cfb0a82a924"
      },
      "source": [
        "#validation\n",
        "evaluation(resmodel_101)"
      ],
      "execution_count": null,
      "outputs": [
        {
          "output_type": "stream",
          "text": [
            "using GPU\n"
          ],
          "name": "stdout"
        },
        {
          "output_type": "stream",
          "text": [
            "/usr/local/lib/python3.6/dist-packages/torch/nn/functional.py:1569: UserWarning: nn.functional.sigmoid is deprecated. Use torch.sigmoid instead.\n",
            "  warnings.warn(\"nn.functional.sigmoid is deprecated. Use torch.sigmoid instead.\")\n"
          ],
          "name": "stderr"
        },
        {
          "output_type": "stream",
          "text": [
            "test step: 60 loss: 0.10 acc: 0.8621 recall: 0.7763 F1: 0.8170\n",
            "test loss: 0.10 acc: 0.8604 recall: 0.7782 F1: 0.8172\n"
          ],
          "name": "stdout"
        }
      ]
    },
    {
      "cell_type": "markdown",
      "metadata": {
        "id": "w3E4392dbpHN",
        "colab_type": "text"
      },
      "source": [
        "### res152"
      ]
    },
    {
      "cell_type": "code",
      "metadata": {
        "id": "gPKDWu5CP_XE",
        "colab_type": "code",
        "colab": {
          "base_uri": "https://localhost:8080/",
          "height": 204
        },
        "outputId": "13db4df6-b212-42eb-b8db-26a31c60138d"
      },
      "source": [
        "#training\n",
        "resmodel_152 = training_resnet(resmodel_152)"
      ],
      "execution_count": null,
      "outputs": [
        {
          "output_type": "stream",
          "text": [
            "using GPU\n",
            "test step: 1810 loss: 0.12 acc: 0.9025 recall: 0.5741 F1: 0.7018\n",
            "epoch: 0 loss: 0.12 acc: 0.9024 recall: 0.5742 F1: 0.7019\n",
            "test step: 1810 loss: 0.09 acc: 0.9320 recall: 0.6725 F1: 0.7812\n",
            "epoch: 1 loss: 0.09 acc: 0.9320 recall: 0.6725 F1: 0.7813\n",
            "test step: 1810 loss: 0.08 acc: 0.9376 recall: 0.7046 F1: 0.8046\n",
            "epoch: 2 loss: 0.08 acc: 0.9375 recall: 0.7046 F1: 0.8046\n",
            "test step: 1810 loss: 0.07 acc: 0.9450 recall: 0.7275 F1: 0.8221\n",
            "epoch: 3 loss: 0.07 acc: 0.9449 recall: 0.7274 F1: 0.8220\n",
            "test step: 1810 loss: 0.07 acc: 0.9495 recall: 0.7481 F1: 0.8368\n",
            "epoch: 4 loss: 0.07 acc: 0.9495 recall: 0.7481 F1: 0.8369\n"
          ],
          "name": "stdout"
        }
      ]
    },
    {
      "cell_type": "code",
      "metadata": {
        "id": "gMiGE15CXWSK",
        "colab_type": "code",
        "colab": {}
      },
      "source": [
        "#save model\n",
        "torch.save(resmodel_152.state_dict(), Path+'resnet152')"
      ],
      "execution_count": null,
      "outputs": []
    },
    {
      "cell_type": "code",
      "metadata": {
        "id": "wygxyIBQXaEa",
        "colab_type": "code",
        "colab": {
          "base_uri": "https://localhost:8080/",
          "height": 34
        },
        "outputId": "62e17e81-64cc-4742-9f1c-86096b59f608"
      },
      "source": [
        "# load model parameters\n",
        "model_pre_152 = models.resnet.resnet152(pretrained=True)\n",
        "resmodel_152= nn.Sequential(model_pre_152,nn.Linear(1000, 19)) \n",
        "resmodel_152.load_state_dict(torch.load(Path+'resnet152'))"
      ],
      "execution_count": null,
      "outputs": [
        {
          "output_type": "execute_result",
          "data": {
            "text/plain": [
              "<All keys matched successfully>"
            ]
          },
          "metadata": {
            "tags": []
          },
          "execution_count": 77
        }
      ]
    },
    {
      "cell_type": "code",
      "metadata": {
        "id": "ai7cMIVeaRdE",
        "colab_type": "code",
        "colab": {
          "base_uri": "https://localhost:8080/",
          "height": 102
        },
        "outputId": "972276af-e3e6-41e9-dc4e-4883dbdc1899"
      },
      "source": [
        "#validation\n",
        "evaluation(resmodel_152)"
      ],
      "execution_count": null,
      "outputs": [
        {
          "output_type": "stream",
          "text": [
            "using GPU\n"
          ],
          "name": "stdout"
        },
        {
          "output_type": "stream",
          "text": [
            "/usr/local/lib/python3.6/dist-packages/torch/nn/functional.py:1569: UserWarning: nn.functional.sigmoid is deprecated. Use torch.sigmoid instead.\n",
            "  warnings.warn(\"nn.functional.sigmoid is deprecated. Use torch.sigmoid instead.\")\n"
          ],
          "name": "stderr"
        },
        {
          "output_type": "stream",
          "text": [
            "test step: 60 loss: 0.08 acc: 0.8915 recall: 0.7837 F1: 0.8341\n",
            "test loss: 0.08 acc: 0.8934 recall: 0.7836 F1: 0.8349\n"
          ],
          "name": "stdout"
        }
      ]
    },
    {
      "cell_type": "markdown",
      "metadata": {
        "id": "eBoBBXuIGXgL",
        "colab_type": "text"
      },
      "source": [
        "# RNN part"
      ]
    },
    {
      "cell_type": "markdown",
      "metadata": {
        "id": "l9sRsuPZEz1T",
        "colab_type": "text"
      },
      "source": [
        "## Data pretreatment(Must run)"
      ]
    },
    {
      "cell_type": "code",
      "metadata": {
        "id": "Y1M0ygSqGZJS",
        "colab_type": "code",
        "colab": {}
      },
      "source": [
        "# load data \n",
        "labels_lstm=pd.read_csv(Path+\"train.csv\")\n",
        "labels_test_lstm=pd.read_csv(Path+\"test.csv\")\n",
        "train_caption_list=labels['Caption'].tolist()\n",
        "test_caption_list=labels_test['Caption'].tolist()\n",
        "Target=[]\n",
        "for item in labels['Labels']:\n",
        "    Target.append(labelToneHot(item))"
      ],
      "execution_count": null,
      "outputs": []
    },
    {
      "cell_type": "code",
      "metadata": {
        "id": "xGq3XBYlnTGP",
        "colab_type": "code",
        "colab": {}
      },
      "source": [
        "#get all sentences\n",
        "keeps = [chr(i) for i in range(97,123)] + [\" \"]\n",
        "all_sentences=[]\n",
        "for review in train_caption_list + test_caption_list:\n",
        "    all_sentences.extend(list(review.lower()))"
      ],
      "execution_count": null,
      "outputs": []
    },
    {
      "cell_type": "code",
      "metadata": {
        "id": "5IJNcm1RnVdb",
        "colab_type": "code",
        "colab": {}
      },
      "source": [
        "# generate romove word list\n",
        "remove_char = []\n",
        "all_char_list = list(set(all_sentences))\n",
        "for i in all_char_list:\n",
        "  if i not in keeps:\n",
        "    remove_char.append(i)\n",
        "\n",
        "remove_chars = \"\".join(remove_char)\n",
        "print(remove_chars)"
      ],
      "execution_count": null,
      "outputs": []
    },
    {
      "cell_type": "code",
      "metadata": {
        "id": "yY6Hp9XGnWFd",
        "colab_type": "code",
        "colab": {}
      },
      "source": [
        "from nltk import stem\n",
        "import string\n",
        "from gensim.parsing.preprocessing import remove_stopwords\n",
        "Porter = stem.PorterStemmer()\n",
        "#token/stem/stopword_remove/ porcess\n",
        "def data_pre(sentence_list):\n",
        "  sentences = []\n",
        "  # this is a-z and space\n",
        "  for sentence in sentence_list:\n",
        "    # create a remove table for invalid character\n",
        "    remove = remove_chars\n",
        "    # There are some useless char in the sentence, so here I add and delete the data\n",
        "    replace = \" \" * len(remove)\n",
        "    # make a translate table\n",
        "    remove_table = str.maketrans(remove , replace)\n",
        "    # clean punctuation and digits\n",
        "    sentence_replace = sentence.lower().translate(remove_table)\n",
        "    #clean stopwords and tokenize\n",
        "    sentence_replace = remove_stopwords(sentence_replace).split()\n",
        "    #remove meaningless tokens  also remove some HTML language\n",
        "    sentence_new = []\n",
        "    for token in sentence_replace:\n",
        "      # I think if a word are longer than 20, it have a great possiblity as a invalid word, and shorter than 2,it may be a stopword\n",
        "      # so i only get the word that the length are form 2 to 20.\n",
        "      if len(token) > 2 and len(token)<20:\n",
        "        # lemmatizer, let the word become it's original shape, had --> have\n",
        "        sentence_new.append(Porter.stem(token))\n",
        "    sentences.append(sentence_new)\n",
        "  return sentences\n"
      ],
      "execution_count": null,
      "outputs": []
    },
    {
      "cell_type": "code",
      "metadata": {
        "id": "38SO0ELSnayn",
        "colab_type": "code",
        "colab": {}
      },
      "source": [
        "# used the data_pre method that defind above\n",
        "train_data = data_pre(train_caption_list)\n",
        "test_data = data_pre(test_caption_list)"
      ],
      "execution_count": null,
      "outputs": []
    },
    {
      "cell_type": "code",
      "metadata": {
        "id": "XF3c_scCngg1",
        "colab_type": "code",
        "colab": {}
      },
      "source": [
        "# text_train_ns\n",
        "# Data after word segmentation has been processed\n",
        "len_list = [len(s) for s in train_data]\n",
        "#seq_length，Is the length of the sublist with the most words.\n",
        "seq_length = max(len_list)\n",
        "\n",
        "# add_padding\n",
        "# The function of the function is to fill in the blanks, \n",
        "# the purpose is to fill the length of all the sublists to a consistent length, \n",
        "# which uses <PAD> as the filling content.\n",
        "def add_padding(corpus, seq_length):\n",
        "    output = []\n",
        "    for sentence in corpus:\n",
        "        if len(sentence)>seq_length:\n",
        "            output.append(sentence[:seq_length])\n",
        "        else:\n",
        "            for j in range(seq_length-len(sentence)):\n",
        "                sentence.append(\"<PAD>\")\n",
        "            output.append(sentence)\n",
        "    return output\n",
        "\n",
        "text_train_pad = add_padding(train_data,seq_length )\n",
        "text_test_pad = add_padding(test_data,seq_length )\n",
        "print(len(text_train_pad))"
      ],
      "execution_count": null,
      "outputs": []
    },
    {
      "cell_type": "code",
      "metadata": {
        "id": "cN5lf1sDnlYQ",
        "colab_type": "code",
        "colab": {}
      },
      "source": [
        "import gensim.downloader as api\n",
        "word_emb_model = api.load(\"glove-twitter-100\")"
      ],
      "execution_count": null,
      "outputs": []
    },
    {
      "cell_type": "code",
      "metadata": {
        "id": "j799n1DQnnYv",
        "colab_type": "code",
        "colab": {
          "base_uri": "https://localhost:8080/",
          "height": 71
        },
        "outputId": "a726e0fb-c4a3-4957-a393-89da3fc1c64c"
      },
      "source": [
        "def get_embeddings(corpus,word_emb_model):\n",
        "    emb_dim = word_emb_model.vector_size\n",
        "    out = []\n",
        "    for sentence in corpus:\n",
        "        out_temp = []\n",
        "        for word in sentence:\n",
        "            try:\n",
        "                out_temp.append(word_emb_model.wv[word])\n",
        "            except:\n",
        "                out_temp.append([0]*emb_dim)\n",
        "    \n",
        "        out.append(out_temp)\n",
        "    return np.array(out)\n",
        "\n",
        "#embeddings\n",
        "train_emb = get_embeddings(text_train_pad,word_emb_model)\n",
        "test_emb = get_embeddings(text_test_pad,word_emb_model)"
      ],
      "execution_count": null,
      "outputs": [
        {
          "output_type": "stream",
          "text": [
            "/usr/local/lib/python3.6/dist-packages/ipykernel_launcher.py:8: DeprecationWarning: Call to deprecated `wv` (Attribute will be removed in 4.0.0, use self instead).\n",
            "  \n"
          ],
          "name": "stderr"
        }
      ]
    },
    {
      "cell_type": "code",
      "metadata": {
        "id": "kCXOlZzfc3-i",
        "colab_type": "code",
        "colab": {}
      },
      "source": [
        "# with open('/content/drive/My Drive/DL/Assignment_2/train_test_emb.npy', 'wb') as f:\n",
        "#     np.save(f, train_emb)\n",
        "#     np.save(f, test_emb)"
      ],
      "execution_count": null,
      "outputs": []
    },
    {
      "cell_type": "code",
      "metadata": {
        "id": "SGrBjBnBcQ5R",
        "colab_type": "code",
        "colab": {
          "base_uri": "https://localhost:8080/",
          "height": 34
        },
        "outputId": "15d44336-2993-4f95-e594-f38136c1fa8e"
      },
      "source": [
        "\n",
        "with open('/content/drive/My Drive/DL/Assignment_2/train_test_emb.npy', 'rb') as f:\n",
        "    a = np.load(f)\n",
        "    b = np.load(f)\n",
        "print(a.shape, b.shape)\n",
        "train_emb=a\n",
        "test_emb=b"
      ],
      "execution_count": null,
      "outputs": [
        {
          "output_type": "stream",
          "text": [
            "(30000, 26, 100) (10000, 26, 100)\n"
          ],
          "name": "stdout"
        }
      ]
    },
    {
      "cell_type": "code",
      "metadata": {
        "id": "qHrmdDAdntab",
        "colab_type": "code",
        "colab": {}
      },
      "source": [
        "from sklearn.model_selection import train_test_split\n",
        "sent_train, sent_val, label_train, label_val = train_test_split(train_emb, np.array(Target), test_size=0.2, random_state=42)"
      ],
      "execution_count": null,
      "outputs": []
    },
    {
      "cell_type": "code",
      "metadata": {
        "id": "Gw6GV3gPn1QN",
        "colab_type": "code",
        "colab": {}
      },
      "source": [
        "from torch.utils.data import Dataset, DataLoader\n",
        "from torchvision import transforms, utils\n",
        "class trainset(Dataset):\n",
        "    def __init__(self,senetance,target):\n",
        "        \n",
        "        self.senetance = senetance\n",
        "        self.target = target\n",
        "\n",
        "    def __getitem__(self, index):\n",
        "        senetance = self.senetance[index]\n",
        "        target = self.target[index]\n",
        "        return senetance,target\n",
        "\n",
        "    def __len__(self):\n",
        "        return len(self.senetance)\n",
        "\n",
        "#create dataloader\n",
        "train_data = trainset(senetance=sent_train,target=label_train)\n",
        "trainloader = DataLoader(train_data, batch_size =16, shuffle = True, num_workers=6,pin_memory=True)\n",
        "validate_data= trainset(senetance=sent_val,target=label_val)\n",
        "validateloader = DataLoader(validate_data, batch_size =16, shuffle = True, num_workers=6,pin_memory=True)"
      ],
      "execution_count": null,
      "outputs": []
    },
    {
      "cell_type": "code",
      "metadata": {
        "id": "HO2sO394oGYi",
        "colab_type": "code",
        "colab": {}
      },
      "source": [
        "#define training function\n",
        "def train_lstm(blstm):\n",
        "    epoch = 10\n",
        "    learning_rate = 0.001\n",
        "    device = torch.device(\"cuda\" if  torch.cuda.is_available() else \"cpu\")\n",
        "    # print(device)\n",
        "\n",
        "\n",
        "    if torch.cuda.is_available():\n",
        "        blstm = blstm.to('cuda')\n",
        "        print('using GPU')\n",
        "    else:\n",
        "        print('using CPU')\n",
        "\n",
        "    criterion = nn.BCEWithLogitsLoss()\n",
        "\n",
        "    optimizer = torch.optim.Adam(blstm.parameters(), lr=learning_rate,weight_decay =1e-8)\n",
        "    # optimizer = torch.optim.SGD(blstm.parameters(), learning_rate, momentum=0.9,weight_decay =1e-10)\n",
        "    # optimizer = torch.optim.Adam(model.parameters(), learning_rate)\n",
        "    exp_lr_scheduler = lr_scheduler.StepLR(optimizer, step_size=5, gamma=0.1)\n",
        "\n",
        "    batch_num = 0\n",
        "    blstm.train()\n",
        "    for ep in range(epoch):\n",
        "        ep_loss = 0.0\n",
        "        ep_acc = 0.0\n",
        "        ep_recall=0.0\n",
        "        for batch,(x,y) in enumerate(trainloader):\n",
        "            # x_torch = x.to(device)\n",
        "            # y_torch = y.to(device)\n",
        "            y = y.to(device).float()\n",
        "            x = x.to(device).float()\n",
        "            \n",
        "            optimizer.zero_grad()\n",
        "            outputs = blstm(x)\n",
        "            loss = criterion(outputs,y)\n",
        "            loss.backward()\n",
        "            optimizer.step()\n",
        "            #batch_num += 1\n",
        "\n",
        "            pred = F.sigmoid(outputs)\n",
        "            target = (y)\n",
        "            # print('pred:',pred)\n",
        "            # print('target:',target)\n",
        "            acc,recall = calculate_acuracy_mode_one(pred,target)\n",
        "            # acc = accuracy(p, y)\n",
        "\n",
        "            # loss=(loss*weight).mean()\n",
        "            ep_loss += loss\n",
        "            ep_acc += acc\n",
        "            ep_recall+=recall\n",
        "            if batch % 100 == 0:\n",
        "                print('\\rtest step: %d loss: %.2f acc: %.4f recall: %.4f F1: %.4f' \n",
        "                            % (batch, ep_loss/(batch+1), ep_acc/(batch+1),ep_recall/(batch+1),\n",
        "                               2*ep_acc/(batch+1)*ep_recall/(batch+1)/(ep_acc/(batch+1)+ep_recall/(batch+1))\n",
        "                               ), end='')\n",
        "        exp_lr_scheduler.step()\n",
        "        print('\\nepoch: %d loss: %.2f acc: %.4f recall: %.4f F1: %.4f'\n",
        "            % (ep, ep_loss/(batch+1), ep_acc/(batch+1),ep_recall/(batch+1),\n",
        "               2*ep_acc/(batch+1)*ep_recall/(batch+1)/(ep_acc/(batch+1)+ep_recall/(batch+1))\n",
        "               ))\n",
        "    return blstm\n",
        "        "
      ],
      "execution_count": null,
      "outputs": []
    },
    {
      "cell_type": "code",
      "metadata": {
        "id": "Zfkr6--CoQ-f",
        "colab_type": "code",
        "colab": {}
      },
      "source": [
        "#define validation function\n",
        "def evaluation_lstm(model): \n",
        "        if torch.cuda.is_available():\n",
        "            model = model.to('cuda')\n",
        "            print('using GPU')\n",
        "        else:\n",
        "            print('using CPU')\n",
        "\n",
        "        ## set model to evaluation mode\n",
        "        model.eval()\n",
        "        ## evaluation\n",
        "        ep_loss = 0.0\n",
        "        ep_acc = 0.0\n",
        "        ep_recall=0.0\n",
        "        criterion=nn.BCEWithLogitsLoss()\n",
        "        with torch.no_grad():\n",
        "            for step,(x,y) in enumerate(validateloader):\n",
        "                x=x.float()\n",
        "                y=y.float()\n",
        "                if torch.cuda.is_available():\n",
        "                    x = x.to('cuda')\n",
        "                    y = y.to('cuda')\n",
        "                # calculate output\n",
        "                p = model(x)\n",
        "                # calculate metrics\n",
        "                loss = criterion(p, y)\n",
        "\n",
        "                pred = F.sigmoid(p)\n",
        "                target = (y)\n",
        "                acc ,recall= calculate_acuracy_mode_one(pred,target)\n",
        "                # acc = accuracy(p, y)\n",
        "                ep_loss += loss\n",
        "                ep_acc += acc\n",
        "                ep_recall+=recall\n",
        "                if step % 5 == 0:\n",
        "                    print('\\rtest step: %d loss: %.2f acc: %.4f recall: %.4f'\n",
        "                            % (step, ep_loss/(step+1), ep_acc/(step+1),ep_recall/(step+1)), end='')\n",
        "        print('\\ntest loss: %.2f acc: %.4f recall: %.4f'\n",
        "                % (ep_loss/(step+1), ep_acc/(step+1),ep_recall/(step+1)))"
      ],
      "execution_count": null,
      "outputs": []
    },
    {
      "cell_type": "code",
      "metadata": {
        "id": "-7ZcqUoFc9be",
        "colab_type": "code",
        "colab": {}
      },
      "source": [
        " q"
      ],
      "execution_count": null,
      "outputs": []
    },
    {
      "cell_type": "code",
      "metadata": {
        "id": "nSgckt0roE9b",
        "colab_type": "code",
        "colab": {}
      },
      "source": [
        "n_input = train_emb.shape[2]\n",
        "n_hidden = 100\n",
        "n_class = 19\n",
        "num_layers= 2\n",
        "total_epoch = 10\n",
        "learning_rate = 0.01\n",
        "class Lstm_Net_2(nn.Module):\n",
        "    def __init__(self):\n",
        "        super(Lstm_Net_2, self).__init__()\n",
        "        self.lstm = nn.LSTM(n_input, n_hidden, num_layers,batch_first =True,bidirectional=True, dropout=0.3)\n",
        "        self.linear = nn.Linear(n_hidden*2,n_class)\n",
        "\n",
        "    def forward(self, sentence):\n",
        "        #h_n of shape (num_layers * num_directions, batch, hidden_size): tensor containing the hidden state for t = seq_len.\n",
        "        lstm_out, (h_n,c_n) = self.lstm(sentence)\n",
        "        #concat the last hidden state from two direction\n",
        "        hidden_out =torch.cat((h_n[0,:,:],h_n[1,:,:]),1)#concatnate as colunm(left-right)\n",
        "        z = self.linear(hidden_out)\n",
        "\n",
        "        return z"
      ],
      "execution_count": null,
      "outputs": []
    },
    {
      "cell_type": "code",
      "metadata": {
        "id": "lsXkt1C-d9-V",
        "colab_type": "code",
        "colab": {}
      },
      "source": [
        "n_input = train_emb.shape[2]\n",
        "n_hidden = 100\n",
        "n_class = 19\n",
        "num_layers= 3\n",
        "total_epoch = 10\n",
        "learning_rate = 0.01\n",
        "class Lstm_Net_3(nn.Module):\n",
        "    def __init__(self):\n",
        "        super(Lstm_Net_3, self).__init__()\n",
        "        self.lstm = nn.LSTM(n_input, n_hidden, num_layers,batch_first =True,bidirectional=True, dropout=0.3)\n",
        "        self.linear = nn.Linear(n_hidden*2,n_class)\n",
        "\n",
        "    def forward(self, sentence):\n",
        "        \n",
        "        #h_n of shape (num_layers * num_directions, batch, hidden_size): tensor containing the hidden state for t = seq_len.\n",
        "        lstm_out, (h_n,c_n) = self.lstm(sentence)\n",
        "        #concat the last hidden state from two direction\n",
        "        hidden_out =torch.cat((h_n[0,:,:],h_n[1,:,:]),1)#concatnate as colunm(left-right)\n",
        "        z = self.linear(hidden_out)\n",
        "\n",
        "        return z"
      ],
      "execution_count": null,
      "outputs": []
    },
    {
      "cell_type": "markdown",
      "metadata": {
        "id": "XjxZQ_pmb1kN",
        "colab_type": "text"
      },
      "source": [
        "## BLSTM(2layers)"
      ]
    },
    {
      "cell_type": "code",
      "metadata": {
        "id": "VRqjLXLLh6No",
        "colab_type": "code",
        "colab": {
          "base_uri": "https://localhost:8080/",
          "height": 408
        },
        "outputId": "98eb50d2-33ca-4c73-edf0-c97130391745"
      },
      "source": [
        "#training model\n",
        "blstm_2 = Lstm_Net_2().to(device)\n",
        "blstm_2 = train_lstm(blstm_2)"
      ],
      "execution_count": null,
      "outputs": [
        {
          "output_type": "stream",
          "text": [
            "using GPU\n"
          ],
          "name": "stdout"
        },
        {
          "output_type": "stream",
          "text": [
            "/usr/local/lib/python3.6/dist-packages/torch/nn/functional.py:1569: UserWarning: nn.functional.sigmoid is deprecated. Use torch.sigmoid instead.\n",
            "  warnings.warn(\"nn.functional.sigmoid is deprecated. Use torch.sigmoid instead.\")\n"
          ],
          "name": "stderr"
        },
        {
          "output_type": "stream",
          "text": [
            "test step: 1400 loss: 0.14 acc: 0.8767 recall: 0.5599 F1: 0.6834\n",
            "epoch: 0 loss: 0.14 acc: 0.8786 recall: 0.5679 F1: 0.6899\n",
            "test step: 1400 loss: 0.10 acc: 0.9117 recall: 0.6979 F1: 0.7906\n",
            "epoch: 1 loss: 0.10 acc: 0.9116 recall: 0.6991 F1: 0.7913\n",
            "test step: 1400 loss: 0.09 acc: 0.9191 recall: 0.7208 F1: 0.8080\n",
            "epoch: 2 loss: 0.09 acc: 0.9191 recall: 0.7210 F1: 0.8081\n",
            "test step: 1400 loss: 0.08 acc: 0.9242 recall: 0.7330 F1: 0.8176\n",
            "epoch: 3 loss: 0.08 acc: 0.9237 recall: 0.7329 F1: 0.8173\n",
            "test step: 1400 loss: 0.08 acc: 0.9272 recall: 0.7393 F1: 0.8226\n",
            "epoch: 4 loss: 0.08 acc: 0.9276 recall: 0.7403 F1: 0.8234\n",
            "test step: 1400 loss: 0.07 acc: 0.9390 recall: 0.7530 F1: 0.8358\n",
            "epoch: 5 loss: 0.07 acc: 0.9389 recall: 0.7538 F1: 0.8363\n",
            "test step: 1400 loss: 0.07 acc: 0.9382 recall: 0.7560 F1: 0.8373\n",
            "epoch: 6 loss: 0.07 acc: 0.9383 recall: 0.7573 F1: 0.8381\n",
            "test step: 1400 loss: 0.07 acc: 0.9399 recall: 0.7589 F1: 0.8398\n",
            "epoch: 7 loss: 0.07 acc: 0.9402 recall: 0.7590 F1: 0.8399\n",
            "test step: 1400 loss: 0.07 acc: 0.9408 recall: 0.7611 F1: 0.8415\n",
            "epoch: 8 loss: 0.07 acc: 0.9408 recall: 0.7614 F1: 0.8416\n",
            "test step: 1400 loss: 0.07 acc: 0.9401 recall: 0.7628 F1: 0.8422\n",
            "epoch: 9 loss: 0.07 acc: 0.9406 recall: 0.7640 F1: 0.8431\n"
          ],
          "name": "stdout"
        }
      ]
    },
    {
      "cell_type": "code",
      "metadata": {
        "id": "ImdvfDX6oLBH",
        "colab_type": "code",
        "colab": {}
      },
      "source": [
        "#save model\n",
        "torch.save(blstm_2.state_dict(), Path+'blstm_3')"
      ],
      "execution_count": null,
      "outputs": []
    },
    {
      "cell_type": "code",
      "metadata": {
        "id": "PzXeVmsroMht",
        "colab_type": "code",
        "colab": {
          "base_uri": "https://localhost:8080/",
          "height": 34
        },
        "outputId": "c0907466-bfd4-4132-ae0d-985116cf2753"
      },
      "source": [
        "#load model\n",
        "blstm_2 = Lstm_Net_2().to(device)\n",
        "blstm_2.load_state_dict(torch.load(Path+'blstm_3'))"
      ],
      "execution_count": null,
      "outputs": [
        {
          "output_type": "execute_result",
          "data": {
            "text/plain": [
              "<All keys matched successfully>"
            ]
          },
          "metadata": {
            "tags": []
          },
          "execution_count": 133
        }
      ]
    },
    {
      "cell_type": "code",
      "metadata": {
        "id": "w3QxxR4ioUFN",
        "colab_type": "code",
        "colab": {
          "base_uri": "https://localhost:8080/",
          "height": 102
        },
        "outputId": "fc4c3f81-debf-4f79-9baa-057ddf05eb0f"
      },
      "source": [
        "#validation\n",
        "evaluation_lstm(blstm_2)"
      ],
      "execution_count": null,
      "outputs": [
        {
          "output_type": "stream",
          "text": [
            "using GPU\n"
          ],
          "name": "stdout"
        },
        {
          "output_type": "stream",
          "text": [
            "/usr/local/lib/python3.6/dist-packages/torch/nn/functional.py:1569: UserWarning: nn.functional.sigmoid is deprecated. Use torch.sigmoid instead.\n",
            "  warnings.warn(\"nn.functional.sigmoid is deprecated. Use torch.sigmoid instead.\")\n"
          ],
          "name": "stderr"
        },
        {
          "output_type": "stream",
          "text": [
            "test step: 370 loss: 0.09 acc: 0.9197 recall: 0.7267\n",
            "test loss: 0.09 acc: 0.9203 recall: 0.7272\n"
          ],
          "name": "stdout"
        }
      ]
    },
    {
      "cell_type": "code",
      "metadata": {
        "id": "mOHxgV3GeltI",
        "colab_type": "code",
        "colab": {}
      },
      "source": [
        "#output csv file\n",
        "outputFile(blstm_2,'test_label_lstm2.csv')"
      ],
      "execution_count": null,
      "outputs": []
    },
    {
      "cell_type": "markdown",
      "metadata": {
        "id": "wwwjollhcV0G",
        "colab_type": "text"
      },
      "source": [
        "## BLSTM(3layers)"
      ]
    },
    {
      "cell_type": "code",
      "metadata": {
        "id": "8V-LrZ--xOoe",
        "colab_type": "code",
        "colab": {
          "base_uri": "https://localhost:8080/",
          "height": 408
        },
        "outputId": "3ecf45e9-01e2-443f-cb33-a885e03c7fc6"
      },
      "source": [
        "#train model\n",
        "blstm_3 = Lstm_Net_3().to(device)\n",
        "blstm_3 = train_lstm(blstm_3)"
      ],
      "execution_count": null,
      "outputs": [
        {
          "output_type": "stream",
          "text": [
            "using GPU\n"
          ],
          "name": "stdout"
        },
        {
          "output_type": "stream",
          "text": [
            "/usr/local/lib/python3.6/dist-packages/torch/nn/functional.py:1569: UserWarning: nn.functional.sigmoid is deprecated. Use torch.sigmoid instead.\n",
            "  warnings.warn(\"nn.functional.sigmoid is deprecated. Use torch.sigmoid instead.\")\n"
          ],
          "name": "stderr"
        },
        {
          "output_type": "stream",
          "text": [
            "test step: 1400 loss: 0.14 acc: 0.8778 recall: 0.5544 F1: 0.6796\n",
            "epoch: 0 loss: 0.14 acc: 0.8795 recall: 0.5615 F1: 0.6854\n",
            "test step: 1400 loss: 0.10 acc: 0.9139 recall: 0.6949 F1: 0.7895\n",
            "epoch: 1 loss: 0.10 acc: 0.9138 recall: 0.6959 F1: 0.7901\n",
            "test step: 1400 loss: 0.09 acc: 0.9176 recall: 0.7211 F1: 0.8076\n",
            "epoch: 2 loss: 0.09 acc: 0.9180 recall: 0.7218 F1: 0.8082\n",
            "test step: 1400 loss: 0.08 acc: 0.9219 recall: 0.7337 F1: 0.8171\n",
            "epoch: 3 loss: 0.08 acc: 0.9215 recall: 0.7329 F1: 0.8164\n",
            "test step: 1400 loss: 0.08 acc: 0.9270 recall: 0.7402 F1: 0.8232\n",
            "epoch: 4 loss: 0.08 acc: 0.9268 recall: 0.7401 F1: 0.8230\n",
            "test step: 1400 loss: 0.08 acc: 0.9360 recall: 0.7522 F1: 0.8341\n",
            "epoch: 5 loss: 0.08 acc: 0.9360 recall: 0.7518 F1: 0.8338\n",
            "test step: 1400 loss: 0.07 acc: 0.9366 recall: 0.7552 F1: 0.8362\n",
            "epoch: 6 loss: 0.07 acc: 0.9362 recall: 0.7553 F1: 0.8360\n",
            "test step: 1400 loss: 0.07 acc: 0.9371 recall: 0.7583 F1: 0.8383\n",
            "epoch: 7 loss: 0.07 acc: 0.9367 recall: 0.7576 F1: 0.8377\n",
            "test step: 1400 loss: 0.07 acc: 0.9375 recall: 0.7586 F1: 0.8386\n",
            "epoch: 8 loss: 0.07 acc: 0.9380 recall: 0.7597 F1: 0.8395\n",
            "test step: 1400 loss: 0.07 acc: 0.9374 recall: 0.7611 F1: 0.8401\n",
            "epoch: 9 loss: 0.07 acc: 0.9373 recall: 0.7606 F1: 0.8397\n"
          ],
          "name": "stdout"
        }
      ]
    },
    {
      "cell_type": "code",
      "metadata": {
        "id": "bb_RpGWEk5fv",
        "colab_type": "code",
        "colab": {}
      },
      "source": [
        "#save model\n",
        "torch.save(blstm_3.state_dict(), Path+'blstm_4')"
      ],
      "execution_count": null,
      "outputs": []
    },
    {
      "cell_type": "code",
      "metadata": {
        "id": "MUa5yN1Wk5pa",
        "colab_type": "code",
        "colab": {
          "base_uri": "https://localhost:8080/",
          "height": 34
        },
        "outputId": "7d4f7e50-1a28-47ce-da20-3d9fbc88beb8"
      },
      "source": [
        "#load model\n",
        "blstm_3 = Lstm_Net_3().to(device)\n",
        "blstm_3.load_state_dict(torch.load(Path+'blstm_4'))"
      ],
      "execution_count": null,
      "outputs": [
        {
          "output_type": "execute_result",
          "data": {
            "text/plain": [
              "<All keys matched successfully>"
            ]
          },
          "metadata": {
            "tags": []
          },
          "execution_count": 129
        }
      ]
    },
    {
      "cell_type": "code",
      "metadata": {
        "id": "oxR_zJ2mpoZD",
        "colab_type": "code",
        "colab": {
          "base_uri": "https://localhost:8080/",
          "height": 102
        },
        "outputId": "397e2b23-bccc-4ff3-b2b4-101dd9772d76"
      },
      "source": [
        "#validation\n",
        "evaluation_lstm(blstm_3)"
      ],
      "execution_count": null,
      "outputs": [
        {
          "output_type": "stream",
          "text": [
            "using GPU\n"
          ],
          "name": "stdout"
        },
        {
          "output_type": "stream",
          "text": [
            "/usr/local/lib/python3.6/dist-packages/torch/nn/functional.py:1569: UserWarning: nn.functional.sigmoid is deprecated. Use torch.sigmoid instead.\n",
            "  warnings.warn(\"nn.functional.sigmoid is deprecated. Use torch.sigmoid instead.\")\n"
          ],
          "name": "stderr"
        },
        {
          "output_type": "stream",
          "text": [
            "test step: 370 loss: 0.09 acc: 0.9131 recall: 0.7301\n",
            "test loss: 0.09 acc: 0.9132 recall: 0.7300\n"
          ],
          "name": "stdout"
        }
      ]
    },
    {
      "cell_type": "code",
      "metadata": {
        "id": "4llAKdKooi7t",
        "colab_type": "code",
        "colab": {}
      },
      "source": [
        "#make csv file from test dataset\n",
        "outputFile(blstm_3,'test_label_lstm3.csv')"
      ],
      "execution_count": null,
      "outputs": []
    },
    {
      "cell_type": "markdown",
      "metadata": {
        "id": "nrYKFZLiplDi",
        "colab_type": "text"
      },
      "source": [
        "# Concat model"
      ]
    },
    {
      "cell_type": "markdown",
      "metadata": {
        "id": "nCa7mW2NbC87",
        "colab_type": "text"
      },
      "source": [
        "## common function(Must run)"
      ]
    },
    {
      "cell_type": "code",
      "metadata": {
        "id": "WSKW1tOGtPja",
        "colab_type": "code",
        "colab": {}
      },
      "source": [
        "#define a dataset for train \n",
        "class DoubleModelDataset(Dataset):\n",
        "    def __init__(self, Target, ImageID,CaptionEmb,root_dir, transform=None):\n",
        "        self.landmarks_frame = Target\n",
        "        self.root_dir = root_dir\n",
        "        self.transform = transform\n",
        "        self.imageId=ImageID\n",
        "        self.captionEmb=CaptionEmb\n",
        "    def __len__(self):\n",
        "        lenght=40000\n",
        "        return len(self.landmarks_frame)\n",
        "    def __getitem__(self, idx):\n",
        "        if torch.is_tensor(idx):\n",
        "            idx = idx.tolist()\n",
        "        img_name = os.path.join(self.root_dir,\n",
        "                                self.imageId.iloc[idx])\n",
        "        image = Image.open(img_name)\n",
        "        landmarks = self.landmarks_frame[idx, :]\n",
        "        caption=self.captionEmb[idx, :,:]\n",
        "        if self.transform:\n",
        "            image = self.transform(image)\n",
        "        return [image,landmarks,caption]\n",
        "\n",
        "\n",
        "#define a dataset for test ( image with empty label.)\n",
        "class DoubleModelTestDataset(Dataset):\n",
        "    def __init__(self,CaptionEmb,root_dir, transform=None):\n",
        "        self.root_dir = root_dir\n",
        "        self.transform = transform\n",
        "        self.captionEmb=CaptionEmb\n",
        "    def __len__(self):\n",
        "        lenght=40000\n",
        "        return lenght\n",
        "    def __getitem__(self, idx):\n",
        "        if torch.is_tensor(idx):\n",
        "            idx = idx.tolist()\n",
        "        img_name = os.path.join(self.root_dir,\n",
        "                                str(idx)+'.jpg')\n",
        "        image = Image.open(img_name)\n",
        "        landmarks = np.zeros(19)\n",
        "        caption=self.captionEmb[idx-30000,:,:]\n",
        "        if self.transform:\n",
        "            image = self.transform(image)\n",
        "        return [image,landmarks,caption]"
      ],
      "execution_count": null,
      "outputs": []
    },
    {
      "cell_type": "code",
      "metadata": {
        "id": "dcst8NnKYUop",
        "colab_type": "code",
        "colab": {}
      },
      "source": [
        "# create dataset for tairn and test using transform method to normalization the iamge data\n",
        "trans=transforms.Compose([\n",
        "                            # transforms.RandomResizedCrop(224),\n",
        "                            transforms.Resize((224,224)),\n",
        "                            # transforms.RandomResizedCrop(224),\n",
        "                            transforms.RandomHorizontalFlip(),\n",
        "                            transforms.ToTensor(),\n",
        "                            transforms.Normalize(mean=[0.485, 0.456, 0.406],\n",
        "                                                    std=[0.229, 0.224, 0.225])\n",
        "                            ])\n",
        "doubleModelDataset=DoubleModelDataset(Target=Target_,ImageID=labels['ImageID'],root_dir=root,CaptionEmb=train_emb,transform=trans)\n",
        "doubleModelTestDataset=DoubleModelTestDataset(CaptionEmb=test_emb,root_dir=root,transform=trans)"
      ],
      "execution_count": null,
      "outputs": []
    },
    {
      "cell_type": "code",
      "metadata": {
        "id": "yCg-K-HvZrzi",
        "colab_type": "code",
        "colab": {
          "base_uri": "https://localhost:8080/",
          "height": 34
        },
        "outputId": "00969115-0b9c-4ca1-860d-aeb8e9ebed5e"
      },
      "source": [
        "#create dataloader\n",
        "kwargs = {'num_workers': 8, 'pin_memory': True} if use_cuda else {}\n",
        "kwargs['batch_size'] = 16  # Batch size used during training.\n",
        "part=1\n",
        "trainRange = list(range(0,29000//part))\n",
        "validateRange = list(range(29000//part,30000//part))\n",
        "testRange=list(range(30000,40000))\n",
        "doubleTrainDataSet = torch.utils.data.Subset(doubleModelDataset, trainRange)#train_seleted\n",
        "doubleValidateDataSet = torch.utils.data.Subset(doubleModelDataset, validateRange)\n",
        "doubleTestDatsSet= torch.utils.data.Subset(doubleModelTestDataset, testRange)\n",
        "\n",
        "double_train_loader = torch.utils.data.DataLoader(doubleTrainDataSet,shuffle=True, **kwargs)\n",
        "double_test_loader = torch.utils.data.DataLoader(doubleValidateDataSet,shuffle=False, **kwargs)\n",
        "doubel_Realtest_loader=torch.utils.data.DataLoader(doubleTestDatsSet,shuffle=False,batch_size=20,num_workers=8)\n",
        "print('Dataloaders initialized.')"
      ],
      "execution_count": null,
      "outputs": [
        {
          "output_type": "stream",
          "text": [
            "Dataloaders initialized.\n"
          ],
          "name": "stdout"
        }
      ]
    },
    {
      "cell_type": "code",
      "metadata": {
        "id": "tmBwPbixr5KI",
        "colab_type": "code",
        "colab": {}
      },
      "source": [
        "def train_double_model(doubleModel,epochs=5):\n",
        "    learning_rate = 0.001\n",
        "    \n",
        "    # utilise GPU\n",
        "    if torch.cuda.is_available():\n",
        "        doubleModel = doubleModel.to('cuda')\n",
        "        print('using GPU')\n",
        "    else:\n",
        "        print('using CPU')\n",
        "    # define optimizer\n",
        "    optimizer = torch.optim.SGD(doubleModel.parameters(), learning_rate, momentum=0.9,weight_decay =1e-8)\n",
        "    # optimizer = torch.optim.Adam(doubleModel.parameters(), learning_rate,weight_decay =1e-8)\n",
        "    exp_lr_scheduler = lr_scheduler.StepLR(optimizer, step_size=5, gamma=0.1)\n",
        "    # define loss function\n",
        "    criterion = nn.BCEWithLogitsLoss()\n",
        "    ## start training\n",
        "    for ep in range(epochs):\n",
        "        doubleModel.train()\n",
        "        ep_loss = 0.0\n",
        "        ep_acc = 0.0\n",
        "        ep_recall=0.0\n",
        "        for step, (x,y,z) in enumerate(double_train_loader):\n",
        "            x=x.float()\n",
        "            y=y.float()\n",
        "            z=z.float()\n",
        "            if torch.cuda.is_available():\n",
        "                # print('cuda')\n",
        "                x = x.to('cuda')\n",
        "                y = y.to('cuda')\n",
        "                z=z.to('cuda')\n",
        "            # set gradient to zero        \n",
        "            optimizer.zero_grad()\n",
        "            # calculate output\n",
        "            p = doubleModel(x,z)\n",
        "            loss = criterion(p, y)\n",
        "            pred = (p)\n",
        "            target = (y)\n",
        "            acc,recall = calculate_acuracy_mode_one(pred,target)\n",
        "            # acc = accuracy(p, y)\n",
        "            ep_loss += loss\n",
        "            ep_acc += acc\n",
        "            ep_recall+=recall\n",
        "            # back-prop\n",
        "            loss.backward()\n",
        "            # update parameters\n",
        "            optimizer.step()\n",
        "            if step % 5 == 0:\n",
        "                print('\\rtrain step: %d loss: %.2f acc: %.4f recall: %.4f F1: %.4f' \n",
        "                            % (step, ep_loss/(step+1), ep_acc/(step+1),ep_recall/(step+1),\n",
        "                            2*ep_acc/(step+1)*ep_recall/(step+1)/(ep_acc/(step+1)+ep_recall/(step+1))\n",
        "                            ), end='')\n",
        "        exp_lr_scheduler.step()        \n",
        "        print('\\ntrain: %d loss: %.2f acc: %.4f recall: %.4f F1: %.4f'\n",
        "                % (ep, ep_loss/(step+1), ep_acc/(step+1),ep_recall/(step+1),\n",
        "                2*ep_acc/(step+1)*ep_recall/(step+1)/(ep_acc/(step+1)+ep_recall/(step+1))\n",
        "                ))\n",
        "        print('Validation:')\n",
        "        evaluation_double(doubleModel)\n",
        "        print('\\n')\n",
        "    return doubleModel\n",
        "\n"
      ],
      "execution_count": null,
      "outputs": []
    },
    {
      "cell_type": "code",
      "metadata": {
        "id": "xxO7668IgdfI",
        "colab_type": "code",
        "colab": {}
      },
      "source": [
        "#define validation function\n",
        "def evaluation_double(model): \n",
        "        if torch.cuda.is_available():\n",
        "            model = model.to('cuda')\n",
        "            print('using GPU')\n",
        "        else:\n",
        "            print('using CPU')\n",
        "        ## set model to evaluation mode\n",
        "        model.eval()\n",
        "        ## evaluation\n",
        "        ep_loss = 0.0\n",
        "        ep_acc = 0.0\n",
        "        ep_recall=0.0\n",
        "        criterion=nn.BCEWithLogitsLoss()\n",
        "        with torch.no_grad():\n",
        "            for step,(x,y,z) in enumerate(double_test_loader):\n",
        "                x=x.float()\n",
        "                y=y.float()\n",
        "                z=z.float()\n",
        "                if torch.cuda.is_available():\n",
        "                    x = x.to('cuda')\n",
        "                    y = y.to('cuda')\n",
        "                    z = z.to('cuda')\n",
        "                # calculate output\n",
        "                p = model(x,z)\n",
        "                loss = criterion(p, y)\n",
        "                pred = F.sigmoid(p)\n",
        "                target = (y)\n",
        "                acc ,recall= calculate_acuracy_mode_one(pred,target)\n",
        "                ep_loss += loss\n",
        "                ep_acc += acc\n",
        "                ep_recall+=recall\n",
        "                if step % 5 == 0:\n",
        "                    print('\\rtest step: %d loss: %.2f acc: %.4f recall: %.4f F1: %.4f' \n",
        "                            % (step, ep_loss/(step+1), ep_acc/(step+1),ep_recall/(step+1),\n",
        "                            2*ep_acc/(step+1)*ep_recall/(step+1)/(ep_acc/(step+1)+ep_recall/(step+1))\n",
        "                            ), end='')\n",
        "        print('\\ntest loss: %.2f acc: %.4f recall: %.4f F1: %.4f'\n",
        "                % (ep_loss/(step+1), ep_acc/(step+1),ep_recall/(step+1),\n",
        "                   2*ep_acc/(step+1)*ep_recall/(step+1)/(ep_acc/(step+1)+ep_recall/(step+1))\n",
        "                   ))"
      ],
      "execution_count": null,
      "outputs": []
    },
    {
      "cell_type": "code",
      "metadata": {
        "id": "AMmNbWjej0ax",
        "colab_type": "code",
        "colab": {}
      },
      "source": [
        "#define prediction of test dataset\n",
        "def testOutput_double(model):\n",
        "    if torch.cuda.is_available():\n",
        "        model = model.to('cuda')\n",
        "        print('using GPU')\n",
        "    else:\n",
        "        print('using CPU')\n",
        "    ## set model to evaluation mode\n",
        "    model.eval()\n",
        "    ## evaluation\n",
        "    ep_loss = 0.0\n",
        "    ep_acc = 0.0\n",
        "    pred_list=[]\n",
        "    with torch.no_grad():\n",
        "        for step,(x,y,z) in enumerate(doubel_Realtest_loader):\n",
        "            x=x.float()\n",
        "            z=z.float()\n",
        "            # y=y.float()\n",
        "            if torch.cuda.is_available():\n",
        "                x = x.to('cuda')\n",
        "                z = z.to('cuda')\n",
        "            p = model(x,z)\n",
        "            pred = F.sigmoid(p)>0.5\n",
        "            pred_list.append(pred)\n",
        "            if step % 5 == 0:\n",
        "                print('\\rtest step: %d '%step, end='')\n",
        "    return pred_list\n",
        "#transfer onehot to label\n",
        "def vector_to_label(vec):\n",
        "    output=[]\n",
        "    for block in vec:\n",
        "        for label in block:\n",
        "            string=''\n",
        "            for i in range(len(label)):\n",
        "                if label[i] ==True:\n",
        "                    string += ' ' + str(i+1)\n",
        "            string = string.strip()\n",
        "            output.append(string)\n",
        "    return output\n",
        "# create test file for kaggle\n",
        "def saveTestLabelFile_double(model,filename='test_label_doublemodel.csv'):\n",
        "    out=testOutput_double(model)\n",
        "    pre_lsit=vector_to_label(out)\n",
        "\n",
        "    test_image_list=labels_test['ImageID']\n",
        "    dataFrame=pd.DataFrame({'ImageID':test_image_list,'Labels':pre_lsit})\n",
        "    dataFrame.to_csv(filename,index=False,sep=',')"
      ],
      "execution_count": null,
      "outputs": []
    },
    {
      "cell_type": "markdown",
      "metadata": {
        "id": "KeiQUPa49pM3",
        "colab_type": "text"
      },
      "source": [
        "## model_0(resnet50+lstm2)"
      ]
    },
    {
      "cell_type": "code",
      "metadata": {
        "id": "5q7nEmkP9rve",
        "colab_type": "code",
        "colab": {}
      },
      "source": [
        "class MyModel(nn.Module):\n",
        "    def __init__(self,resmodel,blstm):\n",
        "        super(MyModel, self).__init__()\n",
        "        self.features1 = resmodel\n",
        "        self.features2 = blstm\n",
        "        self.fc_out = nn.Linear(38, 19)\n",
        "        \n",
        "    def forward(self, x1, x2):\n",
        "        x1 = self.features1(x1)       \n",
        "        x2 = self.features2(x2)\n",
        "        # Concatenate in dim1 (feature dimension)\n",
        "        x = torch.cat((x1, x2), 1)\n",
        "        x = self.fc_out(x)\n",
        "        return x"
      ],
      "execution_count": null,
      "outputs": []
    },
    {
      "cell_type": "code",
      "metadata": {
        "id": "Cv5S5Uoz9uXE",
        "colab_type": "code",
        "colab": {
          "base_uri": "https://localhost:8080/",
          "height": 374
        },
        "outputId": "601110da-89cf-45d1-e6ca-5f8fff012dd4"
      },
      "source": [
        "# using pretrained model\n",
        "blstm_2 = Lstm_Net_2().to(device)\n",
        "blstm_2.load_state_dict(torch.load(Path+'blstm_3'))\n",
        "# using pretrained model\n",
        "model_pre_50 = models.resnet.resnet50(pretrained=True)\n",
        "resmodel_50= nn.Sequential(model_pre_50,nn.Linear(1000, 19))\n",
        "resmodel_50.load_state_dict(torch.load(Path+'resnet50'))\n",
        "\n",
        "doubleModel_50 = MyModel(resmodel_50,blstm_2)\n",
        "doubleModel_50 = train_double_model(doubleModel_50)"
      ],
      "execution_count": null,
      "outputs": [
        {
          "output_type": "stream",
          "text": [
            "using GPU\n",
            "test step: 1810 loss: 0.13 acc: 0.9300 recall: 0.5551 F1: 0.6952\n",
            "epoch: 0 loss: 0.13 acc: 0.9300 recall: 0.5550 F1: 0.6952\n",
            "test step: 1810 loss: 0.09 acc: 0.9605 recall: 0.6632 F1: 0.7846\n",
            "epoch: 1 loss: 0.09 acc: 0.9605 recall: 0.6632 F1: 0.7846\n",
            "test step: 1810 loss: 0.08 acc: 0.9617 recall: 0.6973 F1: 0.8084\n",
            "epoch: 2 loss: 0.08 acc: 0.9618 recall: 0.6974 F1: 0.8085\n",
            "test step: 1810 loss: 0.07 acc: 0.9645 recall: 0.7154 F1: 0.8215\n",
            "epoch: 3 loss: 0.07 acc: 0.9645 recall: 0.7153 F1: 0.8214\n",
            "test step: 1810 loss: 0.07 acc: 0.9646 recall: 0.7281 F1: 0.8298\n",
            "epoch: 4 loss: 0.07 acc: 0.9647 recall: 0.7281 F1: 0.8298\n",
            "test step: 1810 loss: 0.07 acc: 0.9660 recall: 0.7313 F1: 0.8324\n",
            "epoch: 5 loss: 0.07 acc: 0.9660 recall: 0.7313 F1: 0.8324\n",
            "test step: 1810 loss: 0.07 acc: 0.9664 recall: 0.7330 F1: 0.8336\n",
            "epoch: 6 loss: 0.07 acc: 0.9664 recall: 0.7330 F1: 0.8337\n",
            "test step: 1810 loss: 0.07 acc: 0.9656 recall: 0.7366 F1: 0.8357\n",
            "epoch: 7 loss: 0.07 acc: 0.9657 recall: 0.7366 F1: 0.8358\n",
            "test step: 1810 loss: 0.07 acc: 0.9661 recall: 0.7363 F1: 0.8357\n",
            "epoch: 8 loss: 0.07 acc: 0.9660 recall: 0.7362 F1: 0.8356\n",
            "test step: 1810 loss: 0.07 acc: 0.9664 recall: 0.7382 F1: 0.8370\n",
            "epoch: 9 loss: 0.07 acc: 0.9664 recall: 0.7383 F1: 0.8371\n"
          ],
          "name": "stdout"
        }
      ]
    },
    {
      "cell_type": "code",
      "metadata": {
        "id": "-qfxSivoM7oY",
        "colab_type": "code",
        "colab": {
          "base_uri": "https://localhost:8080/",
          "height": 102
        },
        "outputId": "45b16265-5d11-4fab-bdc0-85c5c78caf35"
      },
      "source": [
        "#validation\n",
        "evaluation_double(doubleModel_50)"
      ],
      "execution_count": null,
      "outputs": [
        {
          "output_type": "stream",
          "text": [
            "using GPU\n"
          ],
          "name": "stdout"
        },
        {
          "output_type": "stream",
          "text": [
            "/usr/local/lib/python3.6/dist-packages/torch/nn/functional.py:1569: UserWarning: nn.functional.sigmoid is deprecated. Use torch.sigmoid instead.\n",
            "  warnings.warn(\"nn.functional.sigmoid is deprecated. Use torch.sigmoid instead.\")\n"
          ],
          "name": "stderr"
        },
        {
          "output_type": "stream",
          "text": [
            "test step: 60 loss: 0.07 acc: 0.9224 recall: 0.7644 F1: 0.8360\n",
            "test loss: 0.07 acc: 0.9249 recall: 0.7620 F1: 0.8356\n"
          ],
          "name": "stdout"
        }
      ]
    },
    {
      "cell_type": "code",
      "metadata": {
        "colab_type": "code",
        "id": "ahn-d4OCaTfn",
        "colab": {}
      },
      "source": [
        "#save model\n",
        "torch.save(doubleModel_50.state_dict(), Path+'doubleModel_res50_lstm')"
      ],
      "execution_count": null,
      "outputs": []
    },
    {
      "cell_type": "markdown",
      "metadata": {
        "id": "zCdqC8BJFF_q",
        "colab_type": "text"
      },
      "source": [
        "## model_1(resnet101+lstm2)"
      ]
    },
    {
      "cell_type": "code",
      "metadata": {
        "id": "4AJKnTX-p0HQ",
        "colab_type": "code",
        "colab": {}
      },
      "source": [
        "class MyModel(nn.Module):\n",
        "    def __init__(self,resmodel,blstm):\n",
        "        super(MyModel, self).__init__()\n",
        "        self.features1 = resmodel\n",
        "        self.features2 = blstm\n",
        "        self.fc_out = nn.Linear(38, 19)\n",
        "        \n",
        "    def forward(self, x1, x2):\n",
        "        x1 = self.features1(x1)\n",
        "        x2 = self.features2(x2)\n",
        "        # Concatenate in dim1 (feature dimension)\n",
        "        x = torch.cat((x1, x2), 1)\n",
        "        x = self.fc_out(x)\n",
        "        return x"
      ],
      "execution_count": null,
      "outputs": []
    },
    {
      "cell_type": "code",
      "metadata": {
        "id": "N5UAH-JZoYXa",
        "colab_type": "code",
        "colab": {
          "base_uri": "https://localhost:8080/",
          "height": 663
        },
        "outputId": "5b78167e-2788-437d-c707-3d8d602f1438"
      },
      "source": [
        "# using pretrained model\n",
        "blstm_2 = Lstm_Net_2().to(device)\n",
        "blstm_2.load_state_dict(torch.load(Path+'blstm_3'))\n",
        "# using pretrained model\n",
        "model_pre = models.resnet.resnet101(pretrained=True)\n",
        "resmodel= nn.Sequential(model_pre,nn.Linear(1000, 19))\n",
        "resmodel.load_state_dict(torch.load(Path+'resnet101'))\n",
        "# concat two model\n",
        "doubleModel = MyModel(resmodel,blstm_2)\n",
        "doubleModel = train_double_model(doubleModel)"
      ],
      "execution_count": null,
      "outputs": [
        {
          "output_type": "stream",
          "text": [
            "using GPU\n",
            "test step: 1810 loss: 0.10 acc: 0.9376 recall: 0.6428 F1: 0.7627\n",
            "epoch: 0 loss: 0.10 acc: 0.9376 recall: 0.6431 F1: 0.7629\n",
            "\n",
            "Validation:\n",
            "using GPU\n"
          ],
          "name": "stdout"
        },
        {
          "output_type": "stream",
          "text": [
            "/usr/local/lib/python3.6/dist-packages/torch/nn/functional.py:1569: UserWarning: nn.functional.sigmoid is deprecated. Use torch.sigmoid instead.\n",
            "  warnings.warn(\"nn.functional.sigmoid is deprecated. Use torch.sigmoid instead.\")\n"
          ],
          "name": "stderr"
        },
        {
          "output_type": "stream",
          "text": [
            "test step: 60 loss: 0.09 acc: 0.8826 recall: 0.7707 F1: 0.8229\n",
            "test loss: 0.09 acc: 0.8821 recall: 0.7702 F1: 0.8224\n",
            "test step: 1810 loss: 0.04 acc: 0.9789 recall: 0.8236 F1: 0.8945\n",
            "epoch: 1 loss: 0.04 acc: 0.9789 recall: 0.8235 F1: 0.8945\n",
            "\n",
            "Validation:\n",
            "using GPU\n",
            "test step: 60 loss: 0.08 acc: 0.9006 recall: 0.7957 F1: 0.8449\n",
            "test loss: 0.08 acc: 0.8997 recall: 0.7963 F1: 0.8449\n",
            "test step: 1810 loss: 0.03 acc: 0.9843 recall: 0.8724 F1: 0.9250\n",
            "epoch: 2 loss: 0.03 acc: 0.9843 recall: 0.8724 F1: 0.9250\n",
            "\n",
            "Validation:\n",
            "using GPU\n",
            "test step: 60 loss: 0.08 acc: 0.8921 recall: 0.8051 F1: 0.8464\n",
            "test loss: 0.08 acc: 0.8921 recall: 0.8055 F1: 0.8466\n",
            "test step: 1810 loss: 0.03 acc: 0.9874 recall: 0.8984 F1: 0.9408\n",
            "epoch: 3 loss: 0.03 acc: 0.9874 recall: 0.8985 F1: 0.9408\n",
            "\n",
            "Validation:\n",
            "using GPU\n",
            "test step: 60 loss: 0.08 acc: 0.8957 recall: 0.8037 F1: 0.8472\n",
            "test loss: 0.08 acc: 0.8943 recall: 0.8035 F1: 0.8465\n",
            "test step: 1810 loss: 0.02 acc: 0.9896 recall: 0.9152 F1: 0.9510\n",
            "epoch: 4 loss: 0.02 acc: 0.9896 recall: 0.9152 F1: 0.9510\n",
            "\n",
            "Validation:\n",
            "using GPU\n",
            "test step: 60 loss: 0.09 acc: 0.9095 recall: 0.7981 F1: 0.8502\n",
            "test loss: 0.09 acc: 0.9070 recall: 0.7973 F1: 0.8486\n"
          ],
          "name": "stdout"
        }
      ]
    },
    {
      "cell_type": "code",
      "metadata": {
        "colab_type": "code",
        "id": "qUSYTd1pnFT1",
        "colab": {}
      },
      "source": [
        "#save model\n",
        "torch.save(doubleModel.state_dict(),Path+'doubleModel_res101_lstm2')"
      ],
      "execution_count": null,
      "outputs": []
    },
    {
      "cell_type": "code",
      "metadata": {
        "colab_type": "code",
        "id": "SAiooKErnFT6",
        "colab": {
          "base_uri": "https://localhost:8080/",
          "height": 34
        },
        "outputId": "f16c7445-2269-44ea-bcd5-c42a14b1b8b9"
      },
      "source": [
        "#load model\n",
        "doubleModel = MyModel(resmodel,blstm_2)\n",
        "doubleModel.load_state_dict(torch.load(Path+'doubleModel_res101_lstm2'))"
      ],
      "execution_count": null,
      "outputs": [
        {
          "output_type": "execute_result",
          "data": {
            "text/plain": [
              "<All keys matched successfully>"
            ]
          },
          "metadata": {
            "tags": []
          },
          "execution_count": 149
        }
      ]
    },
    {
      "cell_type": "code",
      "metadata": {
        "id": "qcS0jhaUg4v_",
        "colab_type": "code",
        "colab": {
          "base_uri": "https://localhost:8080/",
          "height": 102
        },
        "outputId": "0575f726-eaeb-4b39-a266-ecaa056df6f6"
      },
      "source": [
        "#validation\n",
        "evaluation_double(doubleModel)"
      ],
      "execution_count": null,
      "outputs": [
        {
          "output_type": "stream",
          "text": [
            "using GPU\n"
          ],
          "name": "stdout"
        },
        {
          "output_type": "stream",
          "text": [
            "/usr/local/lib/python3.6/dist-packages/torch/nn/functional.py:1569: UserWarning: nn.functional.sigmoid is deprecated. Use torch.sigmoid instead.\n",
            "  warnings.warn(\"nn.functional.sigmoid is deprecated. Use torch.sigmoid instead.\")\n"
          ],
          "name": "stderr"
        },
        {
          "output_type": "stream",
          "text": [
            "test step: 60 loss: 0.08 acc: 0.9011 recall: 0.8056 F1: 0.8507\n",
            "test loss: 0.08 acc: 0.8988 recall: 0.8040 F1: 0.8487\n"
          ],
          "name": "stdout"
        }
      ]
    },
    {
      "cell_type": "code",
      "metadata": {
        "id": "swrVSQb2fipD",
        "colab_type": "code",
        "colab": {}
      },
      "source": [
        "#output csv file\n",
        "saveTestLabelFile_double(doubleModel,'test_label_doublemodel_res_lstm.csv')"
      ],
      "execution_count": null,
      "outputs": []
    },
    {
      "cell_type": "markdown",
      "metadata": {
        "id": "VXlrtTxTURDy",
        "colab_type": "text"
      },
      "source": [
        "## model_2(res101+res152+lstm2+lstm3)\n",
        "\n",
        "\n"
      ]
    },
    {
      "cell_type": "code",
      "metadata": {
        "id": "A22yEw3mTQCY",
        "colab_type": "code",
        "colab": {}
      },
      "source": [
        "#model for 4 pretrained models\n",
        "class MyModel_multiple(nn.Module):\n",
        "    def __init__(self,resmodel_1,resmodel_2,blstm_1,bltsm_2):\n",
        "        super(MyModel_multiple, self).__init__()\n",
        "        self.features1 = resmodel_1\n",
        "        self.features2 = resmodel_2\n",
        "        self.features3 = blstm_1\n",
        "        self.features4 = bltsm_2\n",
        "        self.fc_out = nn.Linear(19*4, 19)\n",
        "        \n",
        "    def forward(self, x1, x2):\n",
        "        x_1 = self.features1(x1)\n",
        "        x_2 = self.features2(x1)\n",
        "        x_3 = self.features3(x2)\n",
        "        x_4 = self.features4(x2)\n",
        "        # Concatenate in dim1 (feature dimension)\n",
        "        x = torch.cat((x_1, x_2 , x_3, x_4), 1)\n",
        "        x = self.fc_out(x)\n",
        "        return x"
      ],
      "execution_count": null,
      "outputs": []
    },
    {
      "cell_type": "code",
      "metadata": {
        "id": "tCpErFafT9hH",
        "colab_type": "code",
        "colab": {
          "base_uri": "https://localhost:8080/",
          "height": 34
        },
        "outputId": "1c922105-4b28-419c-f280-2d1392b231c9"
      },
      "source": [
        "# using pretrained model\n",
        "blstm_2 = Lstm_Net_2().to(device)\n",
        "blstm_2.load_state_dict(torch.load(Path+'blstm_3'))\n",
        "# using pretrained model\n",
        "blstm_3 = Lstm_Net_3().to(device)\n",
        "blstm_3.load_state_dict(torch.load(Path+'blstm_4'))\n",
        "\n",
        "# using pretrained model\n",
        "model_pre = models.resnet.resnet101(pretrained=True)\n",
        "resmodel_1= nn.Sequential(model_pre,nn.Linear(1000, 19))\n",
        "resmodel_1.load_state_dict(torch.load(Path+'resnet101'))\n",
        "# using pretrained model\n",
        "model_pre = models.resnet.resnet152(pretrained=True)\n",
        "resmodel_2= nn.Sequential(model_pre,nn.Linear(1000, 19))\n",
        "resmodel_2.load_state_dict(torch.load(Path+'resnet152'))"
      ],
      "execution_count": null,
      "outputs": [
        {
          "output_type": "execute_result",
          "data": {
            "text/plain": [
              "<All keys matched successfully>"
            ]
          },
          "metadata": {
            "tags": []
          },
          "execution_count": 136
        }
      ]
    },
    {
      "cell_type": "code",
      "metadata": {
        "id": "XtP_OgXuUYZk",
        "colab_type": "code",
        "colab": {
          "base_uri": "https://localhost:8080/",
          "height": 663
        },
        "outputId": "3d9330fa-7b1d-4d81-c6c8-6888300c51b2"
      },
      "source": [
        "# create a mix model\n",
        "doubleModel_1 = MyModel_multiple(resmodel_1,resmodel_2,blstm_2,blstm_3)\n",
        "doubleModel_1 = train_double_model(doubleModel_1)"
      ],
      "execution_count": null,
      "outputs": [
        {
          "output_type": "stream",
          "text": [
            "using GPU\n",
            "test step: 1810 loss: 0.07 acc: 0.9618 recall: 0.7770 F1: 0.8596\n",
            "epoch: 0 loss: 0.07 acc: 0.9618 recall: 0.7771 F1: 0.8597\n",
            "\n",
            "Validation:\n",
            "using GPU\n"
          ],
          "name": "stdout"
        },
        {
          "output_type": "stream",
          "text": [
            "/usr/local/lib/python3.6/dist-packages/torch/nn/functional.py:1569: UserWarning: nn.functional.sigmoid is deprecated. Use torch.sigmoid instead.\n",
            "  warnings.warn(\"nn.functional.sigmoid is deprecated. Use torch.sigmoid instead.\")\n"
          ],
          "name": "stderr"
        },
        {
          "output_type": "stream",
          "text": [
            "test step: 60 loss: 0.08 acc: 0.9047 recall: 0.8023 F1: 0.8505\n",
            "test loss: 0.08 acc: 0.9037 recall: 0.8028 F1: 0.8503\n",
            "test step: 1810 loss: 0.03 acc: 0.9886 recall: 0.9024 F1: 0.9435\n",
            "epoch: 1 loss: 0.03 acc: 0.9886 recall: 0.9025 F1: 0.9436\n",
            "\n",
            "Validation:\n",
            "using GPU\n",
            "test step: 60 loss: 0.08 acc: 0.8913 recall: 0.8152 F1: 0.8516\n",
            "test loss: 0.08 acc: 0.8892 recall: 0.8158 F1: 0.8509\n",
            "test step: 1810 loss: 0.02 acc: 0.9914 recall: 0.9251 F1: 0.9571\n",
            "epoch: 2 loss: 0.02 acc: 0.9914 recall: 0.9251 F1: 0.9571\n",
            "\n",
            "Validation:\n",
            "using GPU\n",
            "test step: 60 loss: 0.08 acc: 0.9072 recall: 0.8153 F1: 0.8588\n",
            "test loss: 0.08 acc: 0.9040 recall: 0.8158 F1: 0.8577\n",
            "test step: 1810 loss: 0.02 acc: 0.9926 recall: 0.9394 F1: 0.9653\n",
            "epoch: 3 loss: 0.02 acc: 0.9926 recall: 0.9394 F1: 0.9652\n",
            "\n",
            "Validation:\n",
            "using GPU\n",
            "test step: 60 loss: 0.09 acc: 0.8985 recall: 0.8155 F1: 0.8550\n",
            "test loss: 0.09 acc: 0.8966 recall: 0.8161 F1: 0.8545\n",
            "test step: 1810 loss: 0.01 acc: 0.9938 recall: 0.9492 F1: 0.9710\n",
            "epoch: 4 loss: 0.01 acc: 0.9939 recall: 0.9492 F1: 0.9710\n",
            "\n",
            "Validation:\n",
            "using GPU\n",
            "test step: 60 loss: 0.09 acc: 0.9035 recall: 0.8177 F1: 0.8585\n",
            "test loss: 0.09 acc: 0.9000 recall: 0.8182 F1: 0.8572\n"
          ],
          "name": "stdout"
        }
      ]
    },
    {
      "cell_type": "code",
      "metadata": {
        "id": "3WcNkGKyd8i3",
        "colab_type": "code",
        "colab": {}
      },
      "source": [
        "#save model\n",
        "torch.save(doubleModel_1.state_dict(), Path+'doubleModel_res101_res152_lstm2_lstm3')"
      ],
      "execution_count": null,
      "outputs": []
    },
    {
      "cell_type": "code",
      "metadata": {
        "id": "AFP1Thz8hMPd",
        "colab_type": "code",
        "colab": {
          "base_uri": "https://localhost:8080/",
          "height": 34
        },
        "outputId": "f3afd3f3-f7b7-4083-c911-9f37a4c33354"
      },
      "source": [
        "#load model\n",
        "doubleModel_1 = MyModel_multiple(resmodel_1,resmodel_2,blstm)\n",
        "doubleModel_1.load_state_dict(torch.load( Path+'doubleModel_res101_res152_lstm2_lstm3'))"
      ],
      "execution_count": null,
      "outputs": [
        {
          "output_type": "execute_result",
          "data": {
            "text/plain": [
              "<All keys matched successfully>"
            ]
          },
          "metadata": {
            "tags": []
          },
          "execution_count": 75
        }
      ]
    },
    {
      "cell_type": "code",
      "metadata": {
        "id": "FF___zSUQztt",
        "colab_type": "code",
        "colab": {
          "base_uri": "https://localhost:8080/",
          "height": 102
        },
        "outputId": "5cda819a-d17e-43e9-e509-19a96a277354"
      },
      "source": [
        "#validation\n",
        "evaluation_double(doubleModel_1)"
      ],
      "execution_count": null,
      "outputs": [
        {
          "output_type": "stream",
          "text": [
            "using GPU\n"
          ],
          "name": "stdout"
        },
        {
          "output_type": "stream",
          "text": [
            "/usr/local/lib/python3.6/dist-packages/torch/nn/functional.py:1569: UserWarning: nn.functional.sigmoid is deprecated. Use torch.sigmoid instead.\n",
            "  warnings.warn(\"nn.functional.sigmoid is deprecated. Use torch.sigmoid instead.\")\n"
          ],
          "name": "stderr"
        },
        {
          "output_type": "stream",
          "text": [
            "test step: 60 loss: 0.09 acc: 0.9000 recall: 0.8161 F1: 0.8560\n",
            "test loss: 0.09 acc: 0.8970 recall: 0.8167 F1: 0.8550\n"
          ],
          "name": "stdout"
        }
      ]
    },
    {
      "cell_type": "code",
      "metadata": {
        "id": "KGx4Sa2zfKXo",
        "colab_type": "code",
        "colab": {
          "base_uri": "https://localhost:8080/",
          "height": 85
        },
        "outputId": "d15ceb79-df8e-4882-c223-620d07d2e3dc"
      },
      "source": [
        "#output csv file for test dataset\n",
        "saveTestLabelFile_double(doubleModel_1,'test_label_doublemodel_2res_2lstm.csv')"
      ],
      "execution_count": null,
      "outputs": [
        {
          "output_type": "stream",
          "text": [
            "using GPU\n"
          ],
          "name": "stdout"
        },
        {
          "output_type": "stream",
          "text": [
            "/usr/local/lib/python3.6/dist-packages/torch/nn/functional.py:1569: UserWarning: nn.functional.sigmoid is deprecated. Use torch.sigmoid instead.\n",
            "  warnings.warn(\"nn.functional.sigmoid is deprecated. Use torch.sigmoid instead.\")\n"
          ],
          "name": "stderr"
        },
        {
          "output_type": "stream",
          "text": [
            "test step: 495 "
          ],
          "name": "stdout"
        }
      ]
    },
    {
      "cell_type": "markdown",
      "metadata": {
        "id": "0gt9-M6zF_vV",
        "colab_type": "text"
      },
      "source": [
        "## model_3(vgg19+resnet152+lstm2+lstm3)"
      ]
    },
    {
      "cell_type": "code",
      "metadata": {
        "id": "fzSs-g_ntYr7",
        "colab_type": "code",
        "colab": {}
      },
      "source": [
        "#model for 4 pretrained model \n",
        "class MyModel_multiple(nn.Module):\n",
        "    def __init__(self,resmodel_1,resmodel_2,blstm_1,bltsm_2):\n",
        "        super(MyModel_multiple, self).__init__()\n",
        "        self.features1 = resmodel_1\n",
        "        self.features2 = resmodel_2\n",
        "        self.features3 = blstm_1\n",
        "        self.features4 = bltsm_2\n",
        "        self.fc_out = nn.Linear(19*4, 19)\n",
        "        \n",
        "    def forward(self, x1, x2):\n",
        "        x_1 = self.features1(x1)\n",
        "        x_2 = self.features2(x1)\n",
        "        x_3 = self.features3(x2)\n",
        "        x_4 = self.features4(x2)\n",
        "        # Concatenate in dim1 (feature dimension)\n",
        "        x = torch.cat((x_1, x_2 , x_3, x_4), 1)\n",
        "        x = self.fc_out(x)\n",
        "        return x"
      ],
      "execution_count": null,
      "outputs": []
    },
    {
      "cell_type": "code",
      "metadata": {
        "id": "JZbzAv80bj4O",
        "colab_type": "code",
        "colab": {
          "base_uri": "https://localhost:8080/",
          "height": 34
        },
        "outputId": "1522e310-e481-4d23-a16d-09753b3e1a4a"
      },
      "source": [
        "# using pretrained model\n",
        "blstm_2 = Lstm_Net_2().to(device)\n",
        "blstm_2.load_state_dict(torch.load(Path+'blstm_3'))\n",
        "# using pretrained model\n",
        "blstm_3 = Lstm_Net_3().to(device)\n",
        "blstm_3.load_state_dict(torch.load(Path+'blstm_4'))\n",
        "# using pretrained model\n",
        "model_pre = models.resnet.resnet101(pretrained=True)\n",
        "resmodel_1= nn.Sequential(model_pre,nn.Linear(1000, 19))\n",
        "resmodel_1.load_state_dict(torch.load(Path+'resnet101'))\n",
        "# using pretrained model\n",
        "model_pre = models.resnet.resnet152(pretrained=True)\n",
        "resmodel_2= nn.Sequential(model_pre,nn.Linear(1000, 19))\n",
        "resmodel_2.load_state_dict(torch.load(Path+'resnet152'))\n",
        "# using pretrained model\n",
        "model_pre = vgg19_bn(pretrained=False)\n",
        "vggmodel= nn.Sequential(model_pre,nn.Linear(1000, 19)) \n",
        "vggmodel.load_state_dict(torch.load(Path+'vgg1'))"
      ],
      "execution_count": null,
      "outputs": [
        {
          "output_type": "execute_result",
          "data": {
            "text/plain": [
              "<All keys matched successfully>"
            ]
          },
          "metadata": {
            "tags": []
          },
          "execution_count": 32
        }
      ]
    },
    {
      "cell_type": "code",
      "metadata": {
        "id": "dfzvXgBgYpy1",
        "colab_type": "code",
        "colab": {
          "base_uri": "https://localhost:8080/",
          "height": 224
        },
        "outputId": "8f8e0aa1-bfe7-4867-e635-4f019181183d"
      },
      "source": [
        "# create a mix model\n",
        "# doubleModel_res_vgg_lstm_lstm = MyModel_multiple(vggmodel,resmodel_2,blstm_2,blstm_3)\n",
        "#train model\n",
        "doubleModel_res_vgg_lstm_lstm = train_double_model(doubleModel_res_vgg_lstm_lstm,epochs=1)\n"
      ],
      "execution_count": null,
      "outputs": [
        {
          "output_type": "stream",
          "text": [
            "using GPU\n",
            "train step: 1810 loss: 0.04 acc: 0.9789 recall: 0.8512 F1: 0.9106\n",
            "train: 0 loss: 0.04 acc: 0.9789 recall: 0.8511 F1: 0.9105\n",
            "Validation:\n",
            "using GPU\n"
          ],
          "name": "stdout"
        },
        {
          "output_type": "stream",
          "text": [
            "/usr/local/lib/python3.6/dist-packages/torch/nn/functional.py:1569: UserWarning: nn.functional.sigmoid is deprecated. Use torch.sigmoid instead.\n",
            "  warnings.warn(\"nn.functional.sigmoid is deprecated. Use torch.sigmoid instead.\")\n"
          ],
          "name": "stderr"
        },
        {
          "output_type": "stream",
          "text": [
            "test step: 60 loss: 0.06 acc: 0.9266 recall: 0.8201 F1: 0.8701\n",
            "test loss: 0.06 acc: 0.9289 recall: 0.8216 F1: 0.8720\n",
            "\n",
            "\n"
          ],
          "name": "stdout"
        }
      ]
    },
    {
      "cell_type": "code",
      "metadata": {
        "id": "ZOCyWgk0Gv_f",
        "colab_type": "code",
        "colab": {}
      },
      "source": [
        "#save model\n",
        "torch.save(doubleModel_res_vgg_lstm_lstm.state_dict(), Path+'doubleModel_vgg_res_2lstm')"
      ],
      "execution_count": null,
      "outputs": []
    },
    {
      "cell_type": "code",
      "metadata": {
        "id": "qzULNHZCG5E8",
        "colab_type": "code",
        "colab": {
          "base_uri": "https://localhost:8080/",
          "height": 34
        },
        "outputId": "22e11083-4567-4df4-d27c-7c1d0e4230fa"
      },
      "source": [
        "#load model\n",
        "doubleModel_res_vgg_lstm_lstm = MyModel_multiple(vggmodel,resmodel_2,blstm_2,blstm_3)\n",
        "doubleModel_res_vgg_lstm_lstm.load_state_dict(torch.load(Path+'doubleModel_vgg_res_2lstm'))"
      ],
      "execution_count": null,
      "outputs": [
        {
          "output_type": "execute_result",
          "data": {
            "text/plain": [
              "<All keys matched successfully>"
            ]
          },
          "metadata": {
            "tags": []
          },
          "execution_count": 38
        }
      ]
    },
    {
      "cell_type": "code",
      "metadata": {
        "id": "Hwyud5V2HDkp",
        "colab_type": "code",
        "colab": {
          "base_uri": "https://localhost:8080/",
          "height": 122
        },
        "outputId": "6ae1db0c-965c-46bd-9dad-3eaf2d33c9af"
      },
      "source": [
        "#validation\n",
        "evaluation_double(doubleModel_res_vgg_lstm_lstm)"
      ],
      "execution_count": null,
      "outputs": [
        {
          "output_type": "stream",
          "text": [
            "using GPU\n"
          ],
          "name": "stdout"
        },
        {
          "output_type": "stream",
          "text": [
            "/usr/local/lib/python3.6/dist-packages/torch/nn/functional.py:1569: UserWarning: nn.functional.sigmoid is deprecated. Use torch.sigmoid instead.\n",
            "  warnings.warn(\"nn.functional.sigmoid is deprecated. Use torch.sigmoid instead.\")\n"
          ],
          "name": "stderr"
        },
        {
          "output_type": "stream",
          "text": [
            "test step: 60 loss: 0.06 acc: 0.9299 recall: 0.8194 F1: 0.8712\n",
            "test loss: 0.06 acc: 0.9322 recall: 0.8204 F1: 0.8727\n"
          ],
          "name": "stdout"
        }
      ]
    },
    {
      "cell_type": "code",
      "metadata": {
        "id": "ziTyddUIkdxK",
        "colab_type": "code",
        "colab": {
          "base_uri": "https://localhost:8080/",
          "height": 105
        },
        "outputId": "0718f358-8b9a-4116-fa7a-5dfd74b9907a"
      },
      "source": [
        "#output csv file for test dataset\n",
        "saveTestLabelFile_double(doubleModel_res_vgg_lstm_lstm,Path+'test_label_doublemodel_vgg_res_2lstm_2.csv')"
      ],
      "execution_count": null,
      "outputs": [
        {
          "output_type": "stream",
          "text": [
            "using GPU\n"
          ],
          "name": "stdout"
        },
        {
          "output_type": "stream",
          "text": [
            "/usr/local/lib/python3.6/dist-packages/torch/nn/functional.py:1569: UserWarning: nn.functional.sigmoid is deprecated. Use torch.sigmoid instead.\n",
            "  warnings.warn(\"nn.functional.sigmoid is deprecated. Use torch.sigmoid instead.\")\n"
          ],
          "name": "stderr"
        },
        {
          "output_type": "stream",
          "text": [
            "test step: 495 "
          ],
          "name": "stdout"
        }
      ]
    },
    {
      "cell_type": "code",
      "metadata": {
        "id": "pHmMM4631VH8",
        "colab_type": "code",
        "colab": {}
      },
      "source": [
        ""
      ],
      "execution_count": null,
      "outputs": []
    }
  ]
}